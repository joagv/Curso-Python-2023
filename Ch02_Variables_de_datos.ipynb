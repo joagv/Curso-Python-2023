{
  "nbformat": 4,
  "nbformat_minor": 0,
  "metadata": {
    "colab": {
      "provenance": [],
      "authorship_tag": "ABX9TyPzECK97FocM0SmS//70K0l",
      "include_colab_link": true
    },
    "kernelspec": {
      "name": "python3",
      "display_name": "Python 3"
    },
    "language_info": {
      "name": "python"
    }
  },
  "cells": [
    {
      "cell_type": "markdown",
      "metadata": {
        "id": "view-in-github",
        "colab_type": "text"
      },
      "source": [
        "<a href=\"https://colab.research.google.com/github/joagv/Curso-Python-2023/blob/main/Ch02_Variables_de_datos.ipynb\" target=\"_parent\"><img src=\"https://colab.research.google.com/assets/colab-badge.svg\" alt=\"Open In Colab\"/></a>"
      ]
    },
    {
      "cell_type": "markdown",
      "source": [
        "Autor: José Gutiérrez\n",
        "\n",
        "Curso: Python de básico a intermedio\n",
        "\n",
        "11/07/2023"
      ],
      "metadata": {
        "id": "Qi4zYDVE1i1_"
      }
    },
    {
      "cell_type": "markdown",
      "source": [
        "# 2.1 Tipos de datos"
      ],
      "metadata": {
        "id": "HFcEaOg912gF"
      }
    },
    {
      "cell_type": "code",
      "source": [
        "type (100)"
      ],
      "metadata": {
        "colab": {
          "base_uri": "https://localhost:8080/"
        },
        "id": "aHw69Ln614tn",
        "outputId": "51eadebb-603f-4052-fc77-4072a8549c01"
      },
      "execution_count": 1,
      "outputs": [
        {
          "output_type": "execute_result",
          "data": {
            "text/plain": [
              "int"
            ]
          },
          "metadata": {},
          "execution_count": 1
        }
      ]
    },
    {
      "cell_type": "code",
      "source": [
        "type (-9)"
      ],
      "metadata": {
        "colab": {
          "base_uri": "https://localhost:8080/"
        },
        "id": "kODQhpKE1-T3",
        "outputId": "49cb22ae-6c1c-4c34-d6e4-eee56633137f"
      },
      "execution_count": 2,
      "outputs": [
        {
          "output_type": "execute_result",
          "data": {
            "text/plain": [
              "int"
            ]
          },
          "metadata": {},
          "execution_count": 2
        }
      ]
    },
    {
      "cell_type": "code",
      "source": [
        "type(1000.9874)"
      ],
      "metadata": {
        "colab": {
          "base_uri": "https://localhost:8080/"
        },
        "id": "h79lXSWr2F7r",
        "outputId": "875784e8-5ee2-4fb1-ce7b-c3619aee4f61"
      },
      "execution_count": 4,
      "outputs": [
        {
          "output_type": "execute_result",
          "data": {
            "text/plain": [
              "float"
            ]
          },
          "metadata": {},
          "execution_count": 4
        }
      ]
    },
    {
      "cell_type": "code",
      "source": [
        "type(\"A\")"
      ],
      "metadata": {
        "colab": {
          "base_uri": "https://localhost:8080/"
        },
        "id": "nftQFROI2Jp-",
        "outputId": "40c7e0cb-b727-4ca8-f284-6bd668225704"
      },
      "execution_count": 5,
      "outputs": [
        {
          "output_type": "execute_result",
          "data": {
            "text/plain": [
              "str"
            ]
          },
          "metadata": {},
          "execution_count": 5
        }
      ]
    },
    {
      "cell_type": "code",
      "source": [
        "type('A')"
      ],
      "metadata": {
        "colab": {
          "base_uri": "https://localhost:8080/"
        },
        "id": "aoJic5zA2RSO",
        "outputId": "4f82c6bd-23f4-4db0-feb3-6d9a1389176c"
      },
      "execution_count": 6,
      "outputs": [
        {
          "output_type": "execute_result",
          "data": {
            "text/plain": [
              "str"
            ]
          },
          "metadata": {},
          "execution_count": 6
        }
      ]
    },
    {
      "cell_type": "code",
      "source": [
        "print(\"hello\")"
      ],
      "metadata": {
        "colab": {
          "base_uri": "https://localhost:8080/"
        },
        "id": "YkM-u-kf2b4V",
        "outputId": "91d1e24a-29dd-499a-eaa9-05d6ff5d7068"
      },
      "execution_count": 7,
      "outputs": [
        {
          "output_type": "stream",
          "name": "stdout",
          "text": [
            "hello\n"
          ]
        }
      ]
    },
    {
      "cell_type": "code",
      "source": [
        "print(type(\"hello\"))"
      ],
      "metadata": {
        "colab": {
          "base_uri": "https://localhost:8080/"
        },
        "id": "z6Yom-Ha2gWA",
        "outputId": "46ae6115-4ba7-40f6-956a-48d5a3d2b924"
      },
      "execution_count": 8,
      "outputs": [
        {
          "output_type": "stream",
          "name": "stdout",
          "text": [
            "<class 'str'>\n"
          ]
        }
      ]
    },
    {
      "cell_type": "code",
      "source": [
        "type(\"17\")"
      ],
      "metadata": {
        "colab": {
          "base_uri": "https://localhost:8080/"
        },
        "id": "HCvDyZ172oxS",
        "outputId": "1bf8eae6-b038-42ca-baf1-005cdb11ae8f"
      },
      "execution_count": 9,
      "outputs": [
        {
          "output_type": "execute_result",
          "data": {
            "text/plain": [
              "str"
            ]
          },
          "metadata": {},
          "execution_count": 9
        }
      ]
    },
    {
      "cell_type": "code",
      "source": [
        "type(\"\"\"Triple double quote data\"\"\")"
      ],
      "metadata": {
        "colab": {
          "base_uri": "https://localhost:8080/"
        },
        "id": "qCaCokLz2uow",
        "outputId": "2f5b4565-22ab-4d3d-9ce7-f0b76aeca6f6"
      },
      "execution_count": 11,
      "outputs": [
        {
          "output_type": "execute_result",
          "data": {
            "text/plain": [
              "str"
            ]
          },
          "metadata": {},
          "execution_count": 11
        }
      ]
    },
    {
      "cell_type": "code",
      "source": [
        "print(\"\"\"Triple double quote data\"\"\")"
      ],
      "metadata": {
        "colab": {
          "base_uri": "https://localhost:8080/"
        },
        "id": "8S_3yDzs23FF",
        "outputId": "d6c35953-2568-4222-b66d-28c5939cb80b"
      },
      "execution_count": 12,
      "outputs": [
        {
          "output_type": "stream",
          "name": "stdout",
          "text": [
            "Triple double quote data\n"
          ]
        }
      ]
    },
    {
      "cell_type": "code",
      "source": [
        "a = \"hello\""
      ],
      "metadata": {
        "id": "Ob8FkeOU2_hi"
      },
      "execution_count": 13,
      "outputs": []
    },
    {
      "cell_type": "code",
      "source": [
        "a"
      ],
      "metadata": {
        "colab": {
          "base_uri": "https://localhost:8080/",
          "height": 36
        },
        "id": "nMlLhAQy3DXC",
        "outputId": "2ee21ccd-2c71-4855-fc31-07cf69a28bf8"
      },
      "execution_count": 14,
      "outputs": [
        {
          "output_type": "execute_result",
          "data": {
            "text/plain": [
              "'hello'"
            ],
            "application/vnd.google.colaboratory.intrinsic+json": {
              "type": "string"
            }
          },
          "metadata": {},
          "execution_count": 14
        }
      ]
    },
    {
      "cell_type": "markdown",
      "source": [
        "# 2.2 Conversión de tipos"
      ],
      "metadata": {
        "id": "Rav6P1JZ3Jhz"
      }
    },
    {
      "cell_type": "code",
      "source": [
        "data = \"hello\" # no se puede convertir una cadena en flotante o en entero"
      ],
      "metadata": {
        "id": "3deNoPMr3GTu"
      },
      "execution_count": 15,
      "outputs": []
    },
    {
      "cell_type": "code",
      "source": [
        "type(data)"
      ],
      "metadata": {
        "colab": {
          "base_uri": "https://localhost:8080/"
        },
        "id": "CP4NVl813frn",
        "outputId": "60071fa4-20b2-434b-9964-9880f3c92c12"
      },
      "execution_count": 16,
      "outputs": [
        {
          "output_type": "execute_result",
          "data": {
            "text/plain": [
              "str"
            ]
          },
          "metadata": {},
          "execution_count": 16
        }
      ]
    },
    {
      "cell_type": "code",
      "source": [
        "data = '100'\n",
        "type(data)"
      ],
      "metadata": {
        "colab": {
          "base_uri": "https://localhost:8080/"
        },
        "id": "BBR9TUWe3j0K",
        "outputId": "0eab418a-fc0b-4cca-e73b-9c14e0cba352"
      },
      "execution_count": 17,
      "outputs": [
        {
          "output_type": "execute_result",
          "data": {
            "text/plain": [
              "str"
            ]
          },
          "metadata": {},
          "execution_count": 17
        }
      ]
    },
    {
      "cell_type": "code",
      "source": [
        "num = int(data)\n",
        "type(num)"
      ],
      "metadata": {
        "colab": {
          "base_uri": "https://localhost:8080/"
        },
        "id": "l52EnpJP3t8E",
        "outputId": "f25cffd6-c001-443c-8fef-8cd82290aba2"
      },
      "execution_count": 18,
      "outputs": [
        {
          "output_type": "execute_result",
          "data": {
            "text/plain": [
              "int"
            ]
          },
          "metadata": {},
          "execution_count": 18
        }
      ]
    },
    {
      "cell_type": "code",
      "source": [
        "num"
      ],
      "metadata": {
        "colab": {
          "base_uri": "https://localhost:8080/"
        },
        "id": "wpr62Ej25Cup",
        "outputId": "9bd0238b-de44-47fe-aeeb-4ff3ec2db872"
      },
      "execution_count": 19,
      "outputs": [
        {
          "output_type": "execute_result",
          "data": {
            "text/plain": [
              "100"
            ]
          },
          "metadata": {},
          "execution_count": 19
        }
      ]
    },
    {
      "cell_type": "code",
      "source": [
        "price = float('500.99')\n",
        "type(price)"
      ],
      "metadata": {
        "colab": {
          "base_uri": "https://localhost:8080/"
        },
        "id": "Mytz-GUK5Eax",
        "outputId": "ed030e74-81ba-43e8-de41-3af26d78bbc1"
      },
      "execution_count": 20,
      "outputs": [
        {
          "output_type": "execute_result",
          "data": {
            "text/plain": [
              "float"
            ]
          },
          "metadata": {},
          "execution_count": 20
        }
      ]
    },
    {
      "cell_type": "code",
      "source": [
        "float('hi')"
      ],
      "metadata": {
        "colab": {
          "base_uri": "https://localhost:8080/",
          "height": 165
        },
        "id": "bFohvvH258O_",
        "outputId": "90cab888-7ca5-4c1c-fa48-6b430ca3f986"
      },
      "execution_count": 21,
      "outputs": [
        {
          "output_type": "error",
          "ename": "ValueError",
          "evalue": "ignored",
          "traceback": [
            "\u001b[0;31m---------------------------------------------------------------------------\u001b[0m",
            "\u001b[0;31mValueError\u001b[0m                                Traceback (most recent call last)",
            "\u001b[0;32m<ipython-input-21-4db454aaf92e>\u001b[0m in \u001b[0;36m<cell line: 1>\u001b[0;34m()\u001b[0m\n\u001b[0;32m----> 1\u001b[0;31m \u001b[0mfloat\u001b[0m\u001b[0;34m(\u001b[0m\u001b[0;34m'hi'\u001b[0m\u001b[0;34m)\u001b[0m\u001b[0;34m\u001b[0m\u001b[0;34m\u001b[0m\u001b[0m\n\u001b[0m",
            "\u001b[0;31mValueError\u001b[0m: could not convert string to float: 'hi'"
          ]
        }
      ]
    },
    {
      "cell_type": "code",
      "source": [
        "int('hola')"
      ],
      "metadata": {
        "colab": {
          "base_uri": "https://localhost:8080/",
          "height": 165
        },
        "id": "q3PnDi1h8HA6",
        "outputId": "2eaf8141-81c6-494a-ca76-21c789e06f35"
      },
      "execution_count": 22,
      "outputs": [
        {
          "output_type": "error",
          "ename": "ValueError",
          "evalue": "ignored",
          "traceback": [
            "\u001b[0;31m---------------------------------------------------------------------------\u001b[0m",
            "\u001b[0;31mValueError\u001b[0m                                Traceback (most recent call last)",
            "\u001b[0;32m<ipython-input-22-2d745ed8249a>\u001b[0m in \u001b[0;36m<cell line: 1>\u001b[0;34m()\u001b[0m\n\u001b[0;32m----> 1\u001b[0;31m \u001b[0mint\u001b[0m\u001b[0;34m(\u001b[0m\u001b[0;34m'hola'\u001b[0m\u001b[0;34m)\u001b[0m\u001b[0;34m\u001b[0m\u001b[0;34m\u001b[0m\u001b[0m\n\u001b[0m",
            "\u001b[0;31mValueError\u001b[0m: invalid literal for int() with base 10: 'hola'"
          ]
        }
      ]
    },
    {
      "cell_type": "code",
      "source": [
        "num = 99.99\n",
        "striNum = str(num)\n",
        "print(striNum)\n",
        "type(striNum)"
      ],
      "metadata": {
        "colab": {
          "base_uri": "https://localhost:8080/"
        },
        "id": "y1xP00Ml8Ng7",
        "outputId": "ad0fc6e3-a15a-4326-e7ee-89c887aef18f"
      },
      "execution_count": 23,
      "outputs": [
        {
          "output_type": "stream",
          "name": "stdout",
          "text": [
            "99.99\n"
          ]
        },
        {
          "output_type": "execute_result",
          "data": {
            "text/plain": [
              "str"
            ]
          },
          "metadata": {},
          "execution_count": 23
        }
      ]
    },
    {
      "cell_type": "code",
      "source": [
        "type(True)"
      ],
      "metadata": {
        "colab": {
          "base_uri": "https://localhost:8080/"
        },
        "id": "BYAb4Em78Ov9",
        "outputId": "b6181bfd-d5b4-480c-8706-ef5547f624e0"
      },
      "execution_count": 25,
      "outputs": [
        {
          "output_type": "execute_result",
          "data": {
            "text/plain": [
              "bool"
            ]
          },
          "metadata": {},
          "execution_count": 25
        }
      ]
    },
    {
      "cell_type": "code",
      "source": [
        "type(False)"
      ],
      "metadata": {
        "colab": {
          "base_uri": "https://localhost:8080/"
        },
        "id": "MikO9Gbp8WIK",
        "outputId": "0303e590-f085-4772-ce74-7a541d081084"
      },
      "execution_count": 26,
      "outputs": [
        {
          "output_type": "execute_result",
          "data": {
            "text/plain": [
              "bool"
            ]
          },
          "metadata": {},
          "execution_count": 26
        }
      ]
    },
    {
      "cell_type": "markdown",
      "source": [
        "# 2.3 Declaraciones\n",
        "* Una declaración es una instrucción que el intérprete de Python puede ejecutar\n",
        "* Hemos visto sentencias de asignación hasta ahora\n",
        "* Luego exploraremos for, if, import, while y otras declaraciones"
      ],
      "metadata": {
        "id": "93ygTHr38YFl"
      }
    },
    {
      "cell_type": "code",
      "source": [
        "1+2"
      ],
      "metadata": {
        "colab": {
          "base_uri": "https://localhost:8080/"
        },
        "id": "FhJzpD3Q8Wws",
        "outputId": "0fe4435f-5b60-4e43-9f9e-4c7ce7517cff"
      },
      "execution_count": 27,
      "outputs": [
        {
          "output_type": "execute_result",
          "data": {
            "text/plain": [
              "3"
            ]
          },
          "metadata": {},
          "execution_count": 27
        }
      ]
    },
    {
      "cell_type": "code",
      "source": [
        "len('hello')"
      ],
      "metadata": {
        "colab": {
          "base_uri": "https://localhost:8080/"
        },
        "id": "4z3aTJ-X8j6z",
        "outputId": "44029de6-ec1f-41ce-c46c-95327b1c98c2"
      },
      "execution_count": 28,
      "outputs": [
        {
          "output_type": "execute_result",
          "data": {
            "text/plain": [
              "5"
            ]
          },
          "metadata": {},
          "execution_count": 28
        }
      ]
    },
    {
      "cell_type": "code",
      "source": [
        "print(2+3*4)"
      ],
      "metadata": {
        "colab": {
          "base_uri": "https://localhost:8080/"
        },
        "id": "LSrTyv-R8mg0",
        "outputId": "27f19c8e-ed00-430a-a748-3a9e36193677"
      },
      "execution_count": 29,
      "outputs": [
        {
          "output_type": "stream",
          "name": "stdout",
          "text": [
            "14\n"
          ]
        }
      ]
    },
    {
      "cell_type": "code",
      "source": [
        "print(''' \"Oh no\", ella exclama, \"La ventana de Ben esta rota!\" ''')"
      ],
      "metadata": {
        "colab": {
          "base_uri": "https://localhost:8080/"
        },
        "id": "UjB6K_Sk8o4Z",
        "outputId": "1a1e4a0f-a365-4799-8c2f-32dd811bce6d"
      },
      "execution_count": 30,
      "outputs": [
        {
          "output_type": "stream",
          "name": "stdout",
          "text": [
            " \"Oh no\", ella exclama, \"La ventana de Ben esta rota!\" \n"
          ]
        }
      ]
    },
    {
      "cell_type": "markdown",
      "source": [
        "# 2.4 Secuencias de escape\n",
        "- algunas letras o secuencias de letras tienen un significado especial para Python\n",
        "- Las comillas simples, dobles y triples simples o dobles representan datos de cadena\n",
        "- utilice la barra invertida \\\\ para representar estas secuencias de escape, por ejemplo,\n",
        "    - \\\\n - nueva línea\n",
        "    - \\\\\\\\ - barra invertida\n",
        "    - \\\\t - tabulador\n",
        "    - \\\\r - retorno de carro\n",
        "    - \\\\' - una frase\n",
        "    - \\\\\" - comillas dobles"
      ],
      "metadata": {
        "id": "GiHFxsQ485pY"
      }
    },
    {
      "cell_type": "code",
      "source": [
        "print('What\\'s up \\n Shaq O\\'Neal?')"
      ],
      "metadata": {
        "colab": {
          "base_uri": "https://localhost:8080/"
        },
        "id": "9KQPVbJz81bM",
        "outputId": "781953d8-7049-4c7b-be5d-98a7813e1f74"
      },
      "execution_count": 32,
      "outputs": [
        {
          "output_type": "stream",
          "name": "stdout",
          "text": [
            "What's up \n",
            " Shaq O'Neal?\n"
          ]
        }
      ]
    },
    {
      "cell_type": "code",
      "source": [
        "print('Hello \\t here...\\n how are you?')"
      ],
      "metadata": {
        "colab": {
          "base_uri": "https://localhost:8080/"
        },
        "id": "nw_RVeYh8-aW",
        "outputId": "45f7fedb-3af1-4e40-f422-44fe9061cb0d"
      },
      "execution_count": 33,
      "outputs": [
        {
          "output_type": "stream",
          "name": "stdout",
          "text": [
            "Hello \t here...\n",
            " how are you?\n"
          ]
        }
      ]
    },
    {
      "cell_type": "code",
      "source": [
        "print('Hello \\t here...\\n how are you? \\\\\\\\')"
      ],
      "metadata": {
        "colab": {
          "base_uri": "https://localhost:8080/"
        },
        "id": "MhQY08iL9ATU",
        "outputId": "49af9b66-6f23-4138-b4a0-7a7c2ce780c7"
      },
      "execution_count": 34,
      "outputs": [
        {
          "output_type": "stream",
          "name": "stdout",
          "text": [
            "Hello \t here...\n",
            " how are you? \\\\\n"
          ]
        }
      ]
    },
    {
      "cell_type": "code",
      "source": [
        "print(r'Hello \\t here...\\n how are you? \\\\\\\\')"
      ],
      "metadata": {
        "colab": {
          "base_uri": "https://localhost:8080/"
        },
        "id": "Gd3RfvzF9C9b",
        "outputId": "48943d53-acaf-4838-a20f-f67c11fcda1f"
      },
      "execution_count": 35,
      "outputs": [
        {
          "output_type": "stream",
          "name": "stdout",
          "text": [
            "Hello \\t here...\\n how are you? \\\\\\\\\n"
          ]
        }
      ]
    },
    {
      "cell_type": "markdown",
      "source": [
        "# 2.5 Variable\n",
        "- las variables son identificadores que se utilizan para almacenar valores que luego pueden manipularse fácilmente\n",
        "- las variables dan nombres a los datos para que los datos puedan ser fácilmente referenciados por sus nombres una y otra vez\n",
        "- reglas y mejores prácticas para crear identificadores y nombres de variables:\n",
        "    - no puede ser una palabra clave - ¿cuáles son las palabras clave integradas?\n",
        "    - puede comenzar solo con letras del alfabeto o guión bajo (_)\n",
        "    - no puede tener símbolos como $, %, &, espacio en blanco, etc.\n",
        "    - no puede comenzar con un dígito, pero los dígitos se pueden usar en cualquier otra parte del nombre\n",
        "    - use nombres camelCase o use _ for_multi_word_names\n",
        "    - use nombres concisos pero significativos y sin ambigüedades para escribir menos y evitar errores tipográficos"
      ],
      "metadata": {
        "id": "vnoR8zo79R3P"
      }
    },
    {
      "cell_type": "code",
      "source": [
        "help(\"keywords\")"
      ],
      "metadata": {
        "colab": {
          "base_uri": "https://localhost:8080/"
        },
        "id": "YIV69ahPAxjQ",
        "outputId": "ee37e068-6345-48fc-98ce-22bc3ba4190b"
      },
      "execution_count": 37,
      "outputs": [
        {
          "output_type": "stream",
          "name": "stdout",
          "text": [
            "\n",
            "Here is a list of the Python keywords.  Enter any keyword to get more help.\n",
            "\n",
            "False               class               from                or\n",
            "None                continue            global              pass\n",
            "True                def                 if                  raise\n",
            "and                 del                 import              return\n",
            "as                  elif                in                  try\n",
            "assert              else                is                  while\n",
            "async               except              lambda              with\n",
            "await               finally             nonlocal            yield\n",
            "break               for                 not                 \n",
            "\n"
          ]
        }
      ]
    },
    {
      "cell_type": "code",
      "source": [
        "# Las variables deben estar definidas inicialmente o antes de ser usadas\n",
        "x = 'algun valor'\n",
        "print(x)"
      ],
      "metadata": {
        "colab": {
          "base_uri": "https://localhost:8080/"
        },
        "id": "RYUpoU6yA-8a",
        "outputId": "3e412b6f-ddc4-4a14-e8de-c18e8f8b9270"
      },
      "execution_count": 39,
      "outputs": [
        {
          "output_type": "stream",
          "name": "stdout",
          "text": [
            "algun valor\n"
          ]
        }
      ]
    },
    {
      "cell_type": "code",
      "source": [
        "var1 = -100\n",
        "num = -99.99\n",
        "name = 'John'\n",
        "lName = 'Smith'\n",
        "MI = 'A'\n",
        "grade = 10.5\n",
        "Name = 'Jake'\n",
        "grade = 19.9\n",
        "gradosCelsius ='32'\n",
        "grados_celsius = 32"
      ],
      "metadata": {
        "id": "E_nKR9AMBWgW"
      },
      "execution_count": 41,
      "outputs": []
    },
    {
      "cell_type": "code",
      "source": [
        "type(gradosCelsius)"
      ],
      "metadata": {
        "colab": {
          "base_uri": "https://localhost:8080/"
        },
        "id": "7AAEhAiGD1KJ",
        "outputId": "d84c8d47-9802-4f07-9e3c-aa708fb76088"
      },
      "execution_count": 42,
      "outputs": [
        {
          "output_type": "execute_result",
          "data": {
            "text/plain": [
              "str"
            ]
          },
          "metadata": {},
          "execution_count": 42
        }
      ]
    },
    {
      "cell_type": "code",
      "source": [
        "type(grados_celsius)"
      ],
      "metadata": {
        "colab": {
          "base_uri": "https://localhost:8080/"
        },
        "id": "NPqCqlP4D13h",
        "outputId": "fbf225bd-f5d2-4d8c-9e39-c5ecb006e760"
      },
      "execution_count": 43,
      "outputs": [
        {
          "output_type": "execute_result",
          "data": {
            "text/plain": [
              "int"
            ]
          },
          "metadata": {},
          "execution_count": 43
        }
      ]
    },
    {
      "cell_type": "code",
      "source": [
        "#Estructura dinámica\n",
        "var = 100"
      ],
      "metadata": {
        "id": "70zOeT4oD9DX"
      },
      "execution_count": 44,
      "outputs": []
    },
    {
      "cell_type": "code",
      "source": [
        "var ='hello'"
      ],
      "metadata": {
        "id": "rH5vqJ-4D_vz"
      },
      "execution_count": 45,
      "outputs": []
    },
    {
      "cell_type": "code",
      "source": [
        "var = 180.23"
      ],
      "metadata": {
        "id": "Vol8qoNvEClT"
      },
      "execution_count": 47,
      "outputs": []
    },
    {
      "cell_type": "code",
      "source": [
        "var"
      ],
      "metadata": {
        "colab": {
          "base_uri": "https://localhost:8080/"
        },
        "id": "u9_rV_cVEKEj",
        "outputId": "8ba2beae-afd3-4c0c-ffa0-0d1725540e7b"
      },
      "execution_count": 48,
      "outputs": [
        {
          "output_type": "execute_result",
          "data": {
            "text/plain": [
              "180.23"
            ]
          },
          "metadata": {},
          "execution_count": 48
        }
      ]
    },
    {
      "cell_type": "markdown",
      "source": [
        "# 2.6 Computación: operadores y operandos\n",
        "- **operadores** son fichas/símbolos especiales que representan cálculos como suma, multiplicación y división\n",
        "- los valores que usa un operador se llaman **operandos**\n",
        "- algunos operadores binarios que toman dos operandos\n",
        "    - suma: 10 + 20\n",
        "    - resta: 20 - 10\n",
        "    - división verdadera: 10 / 3\n",
        "    - multiplicación: 7 * 9\n",
        "    - división entera: 10 // 3\n",
        "    - operador resto o módulo: 10 % 2\n",
        "    - potencia: 2 ** 3"
      ],
      "metadata": {
        "id": "NJx3GMlJEPNM"
      }
    },
    {
      "cell_type": "markdown",
      "source": [
        "Order of operations\n",
        "- depends on the rules of precedence\n",
        "\n",
        "**uses PEMDAS rule from high to low order**\n",
        "\n",
        "1. Parenthesis\n",
        "2. Exponentiation\n",
        "3. Multiplication and Division (left to right)\n",
        "4. Addition and Subtraction (left to right)"
      ],
      "metadata": {
        "id": "oJEOH4q3EU7x"
      }
    },
    {
      "cell_type": "code",
      "source": [
        "print(2 * 3 ** 2)"
      ],
      "metadata": {
        "colab": {
          "base_uri": "https://localhost:8080/"
        },
        "id": "wqw3wsIcENq8",
        "outputId": "a9c3a4a7-a9f3-4443-c2fc-aff08fc0e372"
      },
      "execution_count": 49,
      "outputs": [
        {
          "output_type": "stream",
          "name": "stdout",
          "text": [
            "18\n"
          ]
        }
      ]
    },
    {
      "cell_type": "code",
      "source": [
        "x = 1\n",
        "y = 2\n",
        "z = 3\n",
        "ans = x+y-z*y**y\n",
        "print(ans)"
      ],
      "metadata": {
        "colab": {
          "base_uri": "https://localhost:8080/"
        },
        "id": "uUG7xLwiEaOf",
        "outputId": "c55b46fa-4086-42b6-931c-880b3907ef95"
      },
      "execution_count": 50,
      "outputs": [
        {
          "output_type": "stream",
          "name": "stdout",
          "text": [
            "-9\n"
          ]
        }
      ]
    },
    {
      "cell_type": "markdown",
      "source": [
        "# 2.7 Operations on strings\n",
        "\n",
        "+  and  ∗  operators also work on strings\n",
        "\n",
        "Chapter 08 covers more on string data type and operations"
      ],
      "metadata": {
        "id": "FL6ToPEPEkuI"
      }
    },
    {
      "cell_type": "code",
      "source": [
        "fname = \"John\"\n",
        "lname = \"Smith\"\n",
        "fullName = fname +\" \"+ lname\n",
        "print(fullName)"
      ],
      "metadata": {
        "colab": {
          "base_uri": "https://localhost:8080/"
        },
        "id": "S_PsSbGvEiei",
        "outputId": "59a82c93-8063-4122-eef2-8024efa05d11"
      },
      "execution_count": 52,
      "outputs": [
        {
          "output_type": "stream",
          "name": "stdout",
          "text": [
            "John Smith\n"
          ]
        }
      ]
    },
    {
      "cell_type": "code",
      "source": [
        "gene = \"AGT\"*10\n",
        "print(gene)"
      ],
      "metadata": {
        "colab": {
          "base_uri": "https://localhost:8080/"
        },
        "id": "fy4NLG7_EoQW",
        "outputId": "9e65ba56-ccac-43ad-ac8f-2e8cdda4954a"
      },
      "execution_count": 53,
      "outputs": [
        {
          "output_type": "stream",
          "name": "stdout",
          "text": [
            "AGTAGTAGTAGTAGTAGTAGTAGTAGTAGT\n"
          ]
        }
      ]
    },
    {
      "cell_type": "code",
      "source": [
        "name = input('What is your name? ')"
      ],
      "metadata": {
        "colab": {
          "base_uri": "https://localhost:8080/"
        },
        "id": "HTbSf_YmEqg7",
        "outputId": "59e75df0-9e03-4efb-b5c9-a3fc78c5a1f6"
      },
      "execution_count": 54,
      "outputs": [
        {
          "name": "stdout",
          "output_type": "stream",
          "text": [
            "What is your name? Andrés\n"
          ]
        }
      ]
    },
    {
      "cell_type": "code",
      "source": [
        "print('hello, ', name)"
      ],
      "metadata": {
        "colab": {
          "base_uri": "https://localhost:8080/"
        },
        "id": "nypiEtkbEtf3",
        "outputId": "4d31db12-c469-4269-ec48-8928838d918c"
      },
      "execution_count": 55,
      "outputs": [
        {
          "output_type": "stream",
          "name": "stdout",
          "text": [
            "hello,  Andrés\n"
          ]
        }
      ]
    },
    {
      "cell_type": "code",
      "source": [
        "num = input('Introduce un número =>')\n",
        "print('Tu número es: ', num)\n",
        "print('El tipo del', num, '=', type(num))"
      ],
      "metadata": {
        "colab": {
          "base_uri": "https://localhost:8080/"
        },
        "id": "d_VuGlkMExhg",
        "outputId": "6724f9f5-3afc-4889-a676-e3154b05a836"
      },
      "execution_count": 56,
      "outputs": [
        {
          "output_type": "stream",
          "name": "stdout",
          "text": [
            "Introduce un número =>90.63\n",
            "Tu número es:  90.63\n",
            "El tipo del 90.63 = <class 'str'>\n"
          ]
        }
      ]
    },
    {
      "cell_type": "code",
      "source": [
        "# str must be casted into int or float depending on the value required\n",
        "num2 = float(num)\n",
        "print('type of', num, '=', type(num2))"
      ],
      "metadata": {
        "colab": {
          "base_uri": "https://localhost:8080/"
        },
        "id": "p1WrgDyGE1gb",
        "outputId": "65d924ea-3e7b-46d4-af7e-d3db3ea63aae"
      },
      "execution_count": 57,
      "outputs": [
        {
          "output_type": "stream",
          "name": "stdout",
          "text": [
            "type of 90.63 = <class 'float'>\n"
          ]
        }
      ]
    },
    {
      "cell_type": "markdown",
      "source": [
        "# Ejercicio 1"
      ],
      "metadata": {
        "id": "54-F6VjeE-NJ"
      }
    },
    {
      "cell_type": "markdown",
      "source": [
        "# Area y perímetro de un rectángulo\n",
        "\n",
        "Escriba un script de python que calcule el área y el perímetro de un rectángulo"
      ],
      "metadata": {
        "id": "wuzOjrD7FCBw"
      }
    },
    {
      "cell_type": "code",
      "source": [
        "# Demuestra la composición paso a paso\n",
        "# Pasos del algoritmo\n",
        "# 1. Obtenga la longitud y el ancho de un rectángulo\n",
        "#     a. valores codificados O\n",
        "#     b. solicitar al usuario que introduzca los valores de largo y ancho\n",
        "#        i. convertir la longitud y el ancho en tipos de datos correctos\n",
        "# 2. Encuentra el área = largo x ancho\n",
        "# 3. Encuentra el perímetro = 2 (largo + ancho)\n",
        "# 4. Mostrar resultados calculados"
      ],
      "metadata": {
        "id": "ZSiy_qJiE7Nm"
      },
      "execution_count": 59,
      "outputs": []
    },
    {
      "cell_type": "code",
      "source": [
        "x = input('Introduce un número =>')\n",
        "x2 = float(x)"
      ],
      "metadata": {
        "colab": {
          "base_uri": "https://localhost:8080/"
        },
        "id": "e9qFVB0BFO05",
        "outputId": "21c4b714-ffe3-427a-fec3-f5eb45c9fa13"
      },
      "execution_count": 60,
      "outputs": [
        {
          "name": "stdout",
          "output_type": "stream",
          "text": [
            "Introduce un número =>14.5\n"
          ]
        }
      ]
    },
    {
      "cell_type": "code",
      "source": [
        "y = float(input('Introduce un número =>'))\n",
        "y2 = float(y)"
      ],
      "metadata": {
        "colab": {
          "base_uri": "https://localhost:8080/"
        },
        "id": "JP8MkzDfFQxU",
        "outputId": "1de120d3-88b2-4378-9e92-bdccca0d0389"
      },
      "execution_count": 65,
      "outputs": [
        {
          "name": "stdout",
          "output_type": "stream",
          "text": [
            "Introduce un número =>12.3\n"
          ]
        }
      ]
    },
    {
      "cell_type": "code",
      "source": [
        "Area = x2 * y2\n",
        "\n",
        "print(\"El área es:\",Area)"
      ],
      "metadata": {
        "colab": {
          "base_uri": "https://localhost:8080/"
        },
        "id": "pizww-INFVRQ",
        "outputId": "db2d25cf-bdd5-44b0-8925-6966a2f6f8b7"
      },
      "execution_count": 66,
      "outputs": [
        {
          "output_type": "stream",
          "name": "stdout",
          "text": [
            "El área es: 178.35000000000002\n"
          ]
        }
      ]
    },
    {
      "cell_type": "code",
      "source": [
        "Perimetro = (2*x2) + (2*y2)\n",
        "\n",
        "print(\"El perimetro es:\",Perimetro)"
      ],
      "metadata": {
        "colab": {
          "base_uri": "https://localhost:8080/"
        },
        "id": "qoCruw1RFY-O",
        "outputId": "9735aac6-a57b-484d-919b-f2c039661145"
      },
      "execution_count": 67,
      "outputs": [
        {
          "output_type": "stream",
          "name": "stdout",
          "text": [
            "El perimetro es: 53.6\n"
          ]
        }
      ]
    },
    {
      "cell_type": "code",
      "source": [
        "Perimetro = 2*(x2 +y2)\n",
        "\n",
        "print(\"El perimetro es:\",Perimetro)"
      ],
      "metadata": {
        "colab": {
          "base_uri": "https://localhost:8080/"
        },
        "id": "0vDdCg6DGHL5",
        "outputId": "32c7fda8-1e22-4616-f595-3000269e96a3"
      },
      "execution_count": 68,
      "outputs": [
        {
          "output_type": "stream",
          "name": "stdout",
          "text": [
            "El perimetro es: 53.6\n"
          ]
        }
      ]
    },
    {
      "cell_type": "markdown",
      "source": [
        "# 2. Área y circunferencia de un círculo\n",
        "- escribir un script de python que calcule el área y la circunferencia de un círculo\n",
        "- el área de un círculo se calcula usando la ecuación: $\\pi r^{2}$\n",
        "- el perímetro de un círculo se calcula usando la ecuación: $2 \\pi r$\n",
        "- puedes usar $\\pi=3.14159$"
      ],
      "metadata": {
        "id": "ngGoggmSGNEV"
      }
    },
    {
      "cell_type": "code",
      "source": [
        "# Composición paso a paso\n",
        "# Pasos del algoritmo\n",
        "# 1. Obtenga el valor del radio de la circunferencia\n",
        "#     a. valores codificados ó\n",
        "#     b. solicitar al usuario que introduzca el valor del radio\n",
        "#        i. convertir el radio en tipo de dato aceptado\n",
        "# 2. Encuentra el área = πr2\n",
        "# 3. Encuentra el perímetro = 2πr\n",
        "# 4. Mostrar resultados calculados"
      ],
      "metadata": {
        "id": "9CuHolb7GKHg"
      },
      "execution_count": 69,
      "outputs": []
    },
    {
      "cell_type": "code",
      "source": [
        "r = input('Introduce el valor del radio =>')\n",
        "r2 = float(r)"
      ],
      "metadata": {
        "colab": {
          "base_uri": "https://localhost:8080/"
        },
        "id": "onHc5uinG1kX",
        "outputId": "6536753e-26b0-4a3d-cdec-c2f6ce584ede"
      },
      "execution_count": 79,
      "outputs": [
        {
          "name": "stdout",
          "output_type": "stream",
          "text": [
            "Introduce el valor del radio =>20\n"
          ]
        }
      ]
    },
    {
      "cell_type": "code",
      "source": [
        "Area = 3.14159 * r2**2\n",
        "\n",
        "print(\"El área es:\",Area)"
      ],
      "metadata": {
        "colab": {
          "base_uri": "https://localhost:8080/"
        },
        "id": "GI05CtZUHGQC",
        "outputId": "788ce2e1-c9f7-4e64-b0ae-a65e462a3afc"
      },
      "execution_count": 80,
      "outputs": [
        {
          "output_type": "stream",
          "name": "stdout",
          "text": [
            "El área es: 1256.636\n"
          ]
        }
      ]
    },
    {
      "cell_type": "code",
      "source": [
        "Perimetro = 2 * 3.14159 * r2\n",
        "\n",
        "print(\"El perimetro es:\",Perimetro)"
      ],
      "metadata": {
        "colab": {
          "base_uri": "https://localhost:8080/"
        },
        "id": "LT82RRX6HbKw",
        "outputId": "9c9e9267-c964-4a7e-9d4b-7600d3b51a3c"
      },
      "execution_count": 81,
      "outputs": [
        {
          "output_type": "stream",
          "name": "stdout",
          "text": [
            "El perimetro es: 125.6636\n"
          ]
        }
      ]
    }
  ]
}