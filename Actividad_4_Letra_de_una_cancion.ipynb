{
  "nbformat": 4,
  "nbformat_minor": 0,
  "metadata": {
    "colab": {
      "provenance": [],
      "authorship_tag": "ABX9TyNmqq4VUUpBs6EKS3V1B9wE",
      "include_colab_link": true
    },
    "kernelspec": {
      "name": "python3",
      "display_name": "Python 3"
    },
    "language_info": {
      "name": "python"
    }
  },
  "cells": [
    {
      "cell_type": "markdown",
      "metadata": {
        "id": "view-in-github",
        "colab_type": "text"
      },
      "source": [
        "<a href=\"https://colab.research.google.com/github/joagv/Curso-Python-2023/blob/main/Actividad_4_Letra_de_una_cancion.ipynb\" target=\"_parent\"><img src=\"https://colab.research.google.com/assets/colab-badge.svg\" alt=\"Open In Colab\"/></a>"
      ]
    },
    {
      "cell_type": "code",
      "execution_count": 21,
      "metadata": {
        "colab": {
          "base_uri": "https://localhost:8080/"
        },
        "outputId": "62b96321-ac47-44b9-8799-3a2a25ca0518",
        "id": "wxkG8w7kBmos"
      },
      "outputs": [
        {
          "output_type": "stream",
          "name": "stdout",
          "text": [
            "canción: no voy a trabajá\n",
            "escribe si en los siguientes días vamos a trabajar o no ¿entendido? (si/no) : si\n",
            "lunes! \n",
            "principio de semana \n",
            "pa´ que voy a arriesgarmen\n",
            "incorrecto, recuerda que el lunes no vo´a tabajá\n",
            "martes! \n",
            "ni te cases ni te embarques\n",
            "pa´ que voy a arriesgarmes\n",
            "incorrecto, recuerda que el lunes no vo´a tabajá\n",
            "miercoles! \n",
            "se casa la patrona \n",
            "ay que pachangona!s\n",
            "¡no vo´a tabajá!¡no vo´a tabajá!¡no vo´a tabajá!¡no vo´a tabajá!\n",
            "jueves! \n",
            "estoy muy desvelado \n",
            "me siento hasta mareados\n",
            "¡no vo´a tabajá!¡no vo´a tabajá!¡no vo´a tabajá!¡no vo´a tabajá!\n",
            "viernes! \n",
            "que muere jesucristo! \n",
            "donde se ha visto?s\n",
            "¡no vo´a tabajá!¡no vo´a tabajá!¡no vo´a tabajá!¡no vo´a tabajá!\n",
            "sabado! \n",
            "trabajo medio día \n",
            "por medio días\n",
            "¡no vo´a tabajá!¡no vo´a tabajá!¡no vo´a tabajá!¡no vo´a tabajá!\n",
            "domingo! \n",
            "día de descanso \n",
            "bien merecidos\n",
            "¡no vo´a tabajá!¡no vo´a tabajá!¡no vo´a tabajá!¡no vo´a tabajá!\n"
          ]
        }
      ],
      "source": [
        "print('canción: no voy a trabajá')\n",
        "respuesta = input('escribe si en los siguientes días vamos a trabajar o no ¿entendido? (si/no) : ')\n",
        "\n",
        "if respuesta.lower() == 'si':\n",
        "\n",
        "    respuesta = input('lunes! \\nprincipio de semana \\npa´ que voy a arriesgarme')\n",
        "    if respuesta.lower() == ('no'):\n",
        "        print('¡no vo´a tabajá!' * 4)\n",
        "    else:\n",
        "        print('incorrecto, recuerda que el lunes no vo´a tabajá')\n",
        "\n",
        "    respuesta = input('martes! \\nni te cases ni te embarques\\npa´ que voy a arriesgarme')\n",
        "    if respuesta.lower() == ('no'):\n",
        "        print('¡No vo´a tabajá!' * 4)\n",
        "    else:\n",
        "        print('incorrecto, recuerda que el lunes no vo´a tabajá')\n",
        "\n",
        "    respuesta = input('miercoles! \\nse casa la patrona \\nay que pachangona!')\n",
        "    if respuesta.lower() == ('no'):\n",
        "        print('¡no vo´a tabajá!' * 4)\n",
        "    else:\n",
        "        print('incorrecto, recuerda que el lunes no vo´a tabajá')\n",
        "\n",
        "    respuesta = input('jueves! \\nestoy muy desvelado \\nme siento hasta mareado')\n",
        "    if respuesta.lower() == ('no'):\n",
        "        print('¡no vo´a tabajá!' * 4)\n",
        "    else:\n",
        "       print('incorrecto, recuerda que el lunes no vo´a tabajá')\n",
        "\n",
        "    respuesta = input('viernes! \\nque muere jesucristo! \\ndonde se ha visto?')\n",
        "    if respuesta.lower() == ('no'):\n",
        "        print('¡no vo´a tabajá!' * 4)\n",
        "    else:\n",
        "        print('incorrecto, recuerda que el lunes no vo´a tabajá')\n",
        "\n",
        "    respuesta = input('sabado! \\ntrabajo medio día \\npor medio día')\n",
        "    if respuesta.lower() == ('no'):\n",
        "        print('¡no vo´a tabajá!' * 4)\n",
        "    else:\n",
        "        print('incorrecto, recuerda que el lunes no vo´a tabajá')\n",
        "\n",
        "    respuesta = input('domingo! \\ndía de descanso \\nbien merecido')\n",
        "    if respuesta.lower() == ('no'):\n",
        "        print('¡no vo´a tabajá!' * 4)\n",
        "    else:\n",
        "        print('incorrecto, recuerda que el lunes no vo´a tabajá')"
      ]
    }
  ]
}