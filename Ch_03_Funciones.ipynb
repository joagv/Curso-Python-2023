{
  "nbformat": 4,
  "nbformat_minor": 0,
  "metadata": {
    "colab": {
      "provenance": [],
      "authorship_tag": "ABX9TyOL9l0lWxSrSQOLUWpeJN4h",
      "include_colab_link": true
    },
    "kernelspec": {
      "name": "python3",
      "display_name": "Python 3"
    },
    "language_info": {
      "name": "python"
    }
  },
  "cells": [
    {
      "cell_type": "markdown",
      "metadata": {
        "id": "view-in-github",
        "colab_type": "text"
      },
      "source": [
        "<a href=\"https://colab.research.google.com/github/joagv/Curso-Python-2023/blob/main/Ch_03_Funciones.ipynb\" target=\"_parent\"><img src=\"https://colab.research.google.com/assets/colab-badge.svg\" alt=\"Open In Colab\"/></a>"
      ]
    },
    {
      "cell_type": "markdown",
      "source": [
        "# 3.1 Funciones"
      ],
      "metadata": {
        "id": "Nb8ugBaoOVH_"
      }
    },
    {
      "cell_type": "code",
      "execution_count": null,
      "metadata": {
        "id": "VFCNhLKEMy6M"
      },
      "outputs": [],
      "source": [
        "# Para crear una función en python\n",
        "# Usamos la palabra reservada 'def'\n",
        "\n",
        "def mi_primer_funcion ():\n",
        "  print('Hola Karla, estoy aprendiendo a programar 😀')"
      ]
    },
    {
      "cell_type": "code",
      "source": [
        "mi_primer_funcion()"
      ],
      "metadata": {
        "colab": {
          "base_uri": "https://localhost:8080/"
        },
        "id": "9xLJCAlrNOya",
        "outputId": "6ed0a461-0094-4298-bcb6-19cae52c0872"
      },
      "execution_count": null,
      "outputs": [
        {
          "output_type": "stream",
          "name": "stdout",
          "text": [
            "Hola Karla, estoy aprendiendo a programar 😀\n"
          ]
        }
      ]
    },
    {
      "cell_type": "code",
      "source": [
        "# Esta funcion regresa un tipo de dato\n",
        "# de tipo NoneType\n",
        "mi_variable = mi_primer_funcion()"
      ],
      "metadata": {
        "colab": {
          "base_uri": "https://localhost:8080/"
        },
        "id": "0UUw-NiWNbsJ",
        "outputId": "e15b69f5-a011-4346-d5fd-f2029d4fe3b8"
      },
      "execution_count": null,
      "outputs": [
        {
          "output_type": "stream",
          "name": "stdout",
          "text": [
            "Hola Karla, estoy aprendiendo a programar 😀\n"
          ]
        }
      ]
    },
    {
      "cell_type": "code",
      "source": [
        "print(mi_variable)"
      ],
      "metadata": {
        "colab": {
          "base_uri": "https://localhost:8080/"
        },
        "id": "qj22NQVdNqNV",
        "outputId": "0d0c741a-68b4-4e70-d06a-6d12398724bb"
      },
      "execution_count": null,
      "outputs": [
        {
          "output_type": "stream",
          "name": "stdout",
          "text": [
            "None\n"
          ]
        }
      ]
    },
    {
      "cell_type": "code",
      "source": [
        "type(mi_variable)"
      ],
      "metadata": {
        "colab": {
          "base_uri": "https://localhost:8080/"
        },
        "id": "pZ4vJsMHNvX-",
        "outputId": "a99020d7-03aa-4369-bb2e-2922142c8c60"
      },
      "execution_count": null,
      "outputs": [
        {
          "output_type": "execute_result",
          "data": {
            "text/plain": [
              "NoneType"
            ]
          },
          "metadata": {},
          "execution_count": 17
        }
      ]
    },
    {
      "cell_type": "markdown",
      "source": [
        "# Creando una función con argumentos\n",
        "Crear una función para obtener erl área de un cuadrado"
      ],
      "metadata": {
        "id": "8Q1JnpjGAR1k"
      }
    },
    {
      "cell_type": "code",
      "source": [
        "# Nivel básico\n",
        "def area_cuadrado(lado):\n",
        "  \"\"\"Calcula el área de un cuadrado\"\"\"\n",
        "  area = lado * lado\n",
        "  return area"
      ],
      "metadata": {
        "id": "oDQFqpqMAVYC"
      },
      "execution_count": 6,
      "outputs": []
    },
    {
      "cell_type": "code",
      "source": [
        "from typing import Union\n",
        "\n",
        "# Nivel intermedio-avanzado\n",
        "def area_cuadrado(lado:  Union[int, float]) -> [int, float]:\n",
        "  \"\"\"Calcula el área de un cuadrado\"\"\"\n",
        "  area = lado * lado\n",
        "  return area"
      ],
      "metadata": {
        "id": "80iqNPJ8CMCW"
      },
      "execution_count": 55,
      "outputs": []
    },
    {
      "cell_type": "code",
      "source": [
        "area_cuadrado(8.2)"
      ],
      "metadata": {
        "colab": {
          "base_uri": "https://localhost:8080/"
        },
        "id": "FUX4GYhPBVqg",
        "outputId": "59cba51e-db28-4a2d-8093-a9992c915ca6"
      },
      "execution_count": 11,
      "outputs": [
        {
          "output_type": "execute_result",
          "data": {
            "text/plain": [
              "67.24"
            ]
          },
          "metadata": {},
          "execution_count": 11
        }
      ]
    },
    {
      "cell_type": "code",
      "source": [
        "help(area_cuadrado)"
      ],
      "metadata": {
        "colab": {
          "base_uri": "https://localhost:8080/"
        },
        "id": "S-hiWnbtAx18",
        "outputId": "0de0c0b9-8e57-4953-c493-d66b70e727e3"
      },
      "execution_count": 88,
      "outputs": [
        {
          "output_type": "stream",
          "name": "stdout",
          "text": [
            "Help on function area_cuadrado in module __main__:\n",
            "\n",
            "area_cuadrado(lado: Union[int, float]) -> [<class 'int'>, <class 'float'>]\n",
            "    Calcula el área de un cuadrado\n",
            "\n"
          ]
        }
      ]
    },
    {
      "cell_type": "code",
      "source": [
        "import math"
      ],
      "metadata": {
        "id": "Ll0Cx_WYJcGR"
      },
      "execution_count": 79,
      "outputs": []
    },
    {
      "cell_type": "markdown",
      "source": [
        "# Ejercicio: Funciones para calcular área y perimetro de un circulo y un rectangulo\n",
        "\n",
        "José Andrés Gutiérrez Vázquez"
      ],
      "metadata": {
        "id": "46XX75FpHBHl"
      }
    },
    {
      "cell_type": "code",
      "source": [
        "def area_circulo(radio):\n",
        "  \"\"\"Calcula el área de un círculo\"\"\"\n",
        "  area =  math.pi * radio ** 2\n",
        "  return area"
      ],
      "metadata": {
        "id": "ePc7qQmCDqmA"
      },
      "execution_count": 80,
      "outputs": []
    },
    {
      "cell_type": "code",
      "source": [
        "area_circulo(23)"
      ],
      "metadata": {
        "colab": {
          "base_uri": "https://localhost:8080/"
        },
        "id": "LZ0PQdgjD2Wn",
        "outputId": "37e0cb39-c332-497e-96b3-2014bfeb5a87"
      },
      "execution_count": 85,
      "outputs": [
        {
          "output_type": "execute_result",
          "data": {
            "text/plain": [
              "1661.9025137490005"
            ]
          },
          "metadata": {},
          "execution_count": 85
        }
      ]
    },
    {
      "cell_type": "code",
      "source": [
        "def per_circulo(radio):\n",
        "  \"\"\"Calcula el perimetro de un círculo\"\"\"\n",
        "  perimetro = 2 * math.pi * radio\n",
        "  return perimetro"
      ],
      "metadata": {
        "id": "o_OXctzNEmhp"
      },
      "execution_count": 83,
      "outputs": []
    },
    {
      "cell_type": "code",
      "source": [
        "per_circulo(15)"
      ],
      "metadata": {
        "colab": {
          "base_uri": "https://localhost:8080/"
        },
        "id": "9ZslMLblFIB2",
        "outputId": "44fe7772-8e4e-48c2-9e25-e7206dfd7936"
      },
      "execution_count": 86,
      "outputs": [
        {
          "output_type": "execute_result",
          "data": {
            "text/plain": [
              "94.24777960769379"
            ]
          },
          "metadata": {},
          "execution_count": 86
        }
      ]
    },
    {
      "cell_type": "code",
      "source": [
        "def area_rectangulo(b, h):\n",
        "  \"\"\"Calcula el área de un rectangulo\"\"\"\n",
        "  area = b * h\n",
        "  return area"
      ],
      "metadata": {
        "id": "rr3O1jqqFqxj"
      },
      "execution_count": 75,
      "outputs": []
    },
    {
      "cell_type": "code",
      "source": [
        "area_rectangulo(8, 3)"
      ],
      "metadata": {
        "colab": {
          "base_uri": "https://localhost:8080/"
        },
        "id": "igGdorW9Gduq",
        "outputId": "0252a2e9-aaf1-4b8e-b6f5-a44f6f8551bf"
      },
      "execution_count": 76,
      "outputs": [
        {
          "output_type": "execute_result",
          "data": {
            "text/plain": [
              "24"
            ]
          },
          "metadata": {},
          "execution_count": 76
        }
      ]
    },
    {
      "cell_type": "code",
      "source": [
        "def per_rectangulo(b, h):\n",
        "  \"\"\"Calcula el perimetro de un rectangulo\"\"\"\n",
        "  perimetro = 2 * b + 2 * h\n",
        "  return perimetro"
      ],
      "metadata": {
        "id": "-ZTG8auTFN8N"
      },
      "execution_count": 77,
      "outputs": []
    },
    {
      "cell_type": "code",
      "source": [
        "per_rectangulo(12, 6)"
      ],
      "metadata": {
        "colab": {
          "base_uri": "https://localhost:8080/"
        },
        "id": "ERiZs2agGXhQ",
        "outputId": "ddc917b5-7044-493a-fbad-f5fc8b638689"
      },
      "execution_count": 87,
      "outputs": [
        {
          "output_type": "execute_result",
          "data": {
            "text/plain": [
              "36"
            ]
          },
          "metadata": {},
          "execution_count": 87
        }
      ]
    },
    {
      "cell_type": "code",
      "source": [],
      "metadata": {
        "id": "Xh9ols-xKV2z"
      },
      "execution_count": null,
      "outputs": []
    }
  ]
}