{
  "nbformat": 4,
  "nbformat_minor": 0,
  "metadata": {
    "colab": {
      "provenance": [],
      "authorship_tag": "ABX9TyM0DTY9h9WZ5Q4w8w11ds5E",
      "include_colab_link": true
    },
    "kernelspec": {
      "name": "python3",
      "display_name": "Python 3"
    },
    "language_info": {
      "name": "python"
    }
  },
  "cells": [
    {
      "cell_type": "markdown",
      "metadata": {
        "id": "view-in-github",
        "colab_type": "text"
      },
      "source": [
        "<a href=\"https://colab.research.google.com/github/joagv/Curso-Python-2023/blob/main/Untitled0.ipynb\" target=\"_parent\"><img src=\"https://colab.research.google.com/assets/colab-badge.svg\" alt=\"Open In Colab\"/></a>"
      ]
    },
    {
      "cell_type": "code",
      "execution_count": 2,
      "metadata": {
        "id": "vhc9MxW3w1g5"
      },
      "outputs": [],
      "source": [
        "import random\n",
        "import pandas as pd\n",
        "\n",
        "# Generación de datos aleatorios\n",
        "empresas = ['Empresa A', 'Empresa B', 'Empresa C', 'Empresa D']\n",
        "regiones = ['Norte', 'Sur', 'Este', 'Oeste']\n",
        "meses = list(range(1, 13))  # Números del 1 al 12, podrían ser nombres de meses también\n",
        "\n",
        "datos = []\n",
        "for _ in range(200):  # Generar 200 filas de datos\n",
        "    empresa = random.choice(empresas)\n",
        "    region = random.choice(regiones)\n",
        "    mes = random.choice(meses)\n",
        "    ventas = round(random.uniform(1000, 10000), 2)  # Ventas entre 1000 y 10000\n",
        "    iva = round(ventas * 0.16, 2)  # Suponiendo un IVA del 16%\n",
        "\n",
        "    datos.append([empresa, region, mes, ventas, iva])\n",
        "\n",
        "# Crear un DataFrame de pandas y guardarlo en un archivo CSV\n",
        "df = pd.DataFrame(datos, columns=['Nombre de la Empresa', 'Región', 'Mes', 'Ventas', 'IVA'])\n",
        "df.to_csv('ventas_empresa.csv', index=False)"
      ]
    },
    {
      "cell_type": "code",
      "source": [],
      "metadata": {
        "id": "_RLsAT6uw5Wz"
      },
      "execution_count": null,
      "outputs": []
    }
  ]
}