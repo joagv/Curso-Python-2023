{
  "nbformat": 4,
  "nbformat_minor": 0,
  "metadata": {
    "colab": {
      "provenance": [],
      "authorship_tag": "ABX9TyOCdI9LF3w6u0S5ytZq97bd",
      "include_colab_link": true
    },
    "kernelspec": {
      "name": "python3",
      "display_name": "Python 3"
    },
    "language_info": {
      "name": "python"
    }
  },
  "cells": [
    {
      "cell_type": "markdown",
      "metadata": {
        "id": "view-in-github",
        "colab_type": "text"
      },
      "source": [
        "<a href=\"https://colab.research.google.com/github/joagv/Curso-Python-2023/blob/main/Actividad_7_Ch10_Iteraciones.ipynb\" target=\"_parent\"><img src=\"https://colab.research.google.com/assets/colab-badge.svg\" alt=\"Open In Colab\"/></a>"
      ]
    },
    {
      "cell_type": "markdown",
      "source": [
        "# Actividad:\n",
        "Del notebook de Ch05-Iteraciones realizar los ejercicios:\n",
        "* Frutas\n",
        "* Edad\n",
        "* Suma\n",
        "* Arbol de navidad"
      ],
      "metadata": {
        "id": "NH0od7NOPGag"
      }
    },
    {
      "cell_type": "code",
      "source": [
        "frutas = [\"manzana\", \"platano\", \"cereza\"]\n",
        "adjetivos = [\"roja\", \"grande\", \"dulce\"]\n",
        "print(frutas + adjetivos)"
      ],
      "metadata": {
        "colab": {
          "base_uri": "https://localhost:8080/"
        },
        "id": "mEw6njjfO1R1",
        "outputId": "656d9e0e-b8f9-4627-d421-b0da05cfb92b"
      },
      "execution_count": null,
      "outputs": [
        {
          "output_type": "stream",
          "name": "stdout",
          "text": [
            "['manzana', 'platano', 'cereza', 'roja', 'grande', 'dulce']\n"
          ]
        }
      ]
    },
    {
      "cell_type": "code",
      "execution_count": null,
      "metadata": {
        "colab": {
          "base_uri": "https://localhost:8080/"
        },
        "id": "tI9ecz1-L_6h",
        "outputId": "a5af8ce7-acba-43cc-f4b1-754a951b0b14"
      },
      "outputs": [
        {
          "output_type": "stream",
          "name": "stdout",
          "text": [
            "Ingrese un número (ingrese 0 para finalizar): 6.5\n",
            "Ingrese un número (ingrese 0 para finalizar): 3.8\n",
            "Ingrese un número (ingrese 0 para finalizar): 0\n",
            "la sumatoria de los números ingresados es 10.3\n"
          ]
        }
      ],
      "source": [
        "#Suma\n",
        "total=0\n",
        "numero=float(input(\"Ingrese un número (ingrese 0 para finalizar): \"))\n",
        "while numero != 0:\n",
        "    total+=numero\n",
        "    numero=float(input(\"Ingrese un número (ingrese 0 para finalizar): \"))\n",
        "\n",
        "print('la sumatoria de los números ingresados es', total)"
      ]
    },
    {
      "cell_type": "code",
      "source": [
        "# Edad\n",
        "edad = int(input(\"¿Cuántos años tienes? \"))\n",
        "for i in range(edad):\n",
        "    print(\"Has cumplido \" + str(i+1) + \" años\")"
      ],
      "metadata": {
        "colab": {
          "base_uri": "https://localhost:8080/"
        },
        "id": "C5ye-TzYMA0-",
        "outputId": "40bfe285-1f05-4095-f275-446e81073748"
      },
      "execution_count": 64,
      "outputs": [
        {
          "output_type": "stream",
          "name": "stdout",
          "text": [
            "¿Cuántos años tienes? 9\n",
            "Has cumplido 1 años\n",
            "Has cumplido 2 años\n",
            "Has cumplido 3 años\n",
            "Has cumplido 4 años\n",
            "Has cumplido 5 años\n",
            "Has cumplido 6 años\n",
            "Has cumplido 7 años\n",
            "Has cumplido 8 años\n",
            "Has cumplido 9 años\n"
          ]
        }
      ]
    },
    {
      "cell_type": "code",
      "source": [
        "# Arbol de navidad\n",
        "z = 7\n",
        "x = 1\n",
        "while z > 0:\n",
        "    print(' ' * z + '*' * x + ' ' * z)\n",
        "    x+=2\n",
        "    z-=1"
      ],
      "metadata": {
        "colab": {
          "base_uri": "https://localhost:8080/"
        },
        "id": "qkg-JfIgMYlC",
        "outputId": "88636a2a-e8ec-4d23-c1d1-ed22c314bd32"
      },
      "execution_count": null,
      "outputs": [
        {
          "output_type": "stream",
          "name": "stdout",
          "text": [
            "       *       \n",
            "      ***      \n",
            "     *****     \n",
            "    *******    \n",
            "   *********   \n",
            "  ***********  \n",
            " ************* \n"
          ]
        }
      ]
    }
  ]
}