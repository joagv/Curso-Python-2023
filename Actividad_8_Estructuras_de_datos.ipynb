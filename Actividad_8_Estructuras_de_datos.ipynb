{
  "nbformat": 4,
  "nbformat_minor": 0,
  "metadata": {
    "colab": {
      "provenance": [],
      "authorship_tag": "ABX9TyPkOVCfZ/KdxZv5dcvu3E4S",
      "include_colab_link": true
    },
    "kernelspec": {
      "name": "python3",
      "display_name": "Python 3"
    },
    "language_info": {
      "name": "python"
    }
  },
  "cells": [
    {
      "cell_type": "markdown",
      "metadata": {
        "id": "view-in-github",
        "colab_type": "text"
      },
      "source": [
        "<a href=\"https://colab.research.google.com/github/joagv/Curso-Python-2023/blob/main/Actividad_8_Estructuras_de_datos.ipynb\" target=\"_parent\"><img src=\"https://colab.research.google.com/assets/colab-badge.svg\" alt=\"Open In Colab\"/></a>"
      ]
    },
    {
      "cell_type": "code",
      "execution_count": 7,
      "metadata": {
        "id": "liaCER065911"
      },
      "outputs": [],
      "source": [
        "from collections import OrderedDict, Counter\n",
        "import re"
      ]
    },
    {
      "cell_type": "code",
      "execution_count": 14,
      "metadata": {
        "id": "cp3Ke_JE86PA"
      },
      "outputs": [],
      "source": [
        "def contar_frecuencia_palabras(texto):\n",
        "    # Obtener todas las palabras del texto en minúsculas\n",
        "    palabras = texto.lower().split()\n",
        "    # Usar Counter para contar la frecuencia de las palabras\n",
        "    contador_palabras = Counter(palabras)\n",
        "\n",
        "    return contador_palabras"
      ]
    },
    {
      "cell_type": "code",
      "source": [
        "def palabras_mas_comunes(contador_palabras, n=5):\n",
        "    # Usar OrderedDict para obtener las palabras más comunes en orden\n",
        "    palabras_comunes = OrderedDict(contador_palabras.most_common(n))\n",
        "\n",
        "    return palabras_comunes"
      ],
      "metadata": {
        "id": "lJsJ_QkW9V9z"
      },
      "execution_count": 9,
      "outputs": []
    },
    {
      "cell_type": "code",
      "source": [
        "texto = \"\"\"\n",
        "Efectivamente, verás —dijo el zorro—. Tú no eres para mí todavía más que un\n",
        "muchachito igual a otros cien mil muchachitos y no te necesito para nada.\n",
        "Tampoco tú tienes necesidad de mí y no soy para ti más que un zorro entre otros\n",
        "cien mil zorros semejantes. Pero si tú me domesticas, entonces tendremos\n",
        "necesidad el uno del otro. Tú serás para mí único en el mundo, yo seré para ti\n",
        "único en el mundo\n",
        "\"\"\""
      ],
      "metadata": {
        "id": "q4hwUbV59Y3G"
      },
      "execution_count": 10,
      "outputs": []
    },
    {
      "cell_type": "code",
      "source": [
        "contador = contar_frecuencia_palabras(texto)\n",
        "palabras_comunes = palabras_mas_comunes(contador)\n",
        "\n",
        "print(\"Las palabras más comunes son:\")\n",
        "for palabra, frecuencia in palabras_comunes.items():\n",
        "    print(f\"{palabra}: {frecuencia}\")"
      ],
      "metadata": {
        "colab": {
          "base_uri": "https://localhost:8080/"
        },
        "id": "8slwU8J79bzU",
        "outputId": "1a370c18-851b-4b7f-c431-56035a9ec1b9"
      },
      "execution_count": 15,
      "outputs": [
        {
          "output_type": "stream",
          "name": "stdout",
          "text": [
            "Las palabras más comunes son:\n",
            "para: 5\n",
            "el: 4\n",
            "tú: 4\n",
            "no: 3\n",
            "mí: 3\n"
          ]
        }
      ]
    },
    {
      "cell_type": "code",
      "source": [],
      "metadata": {
        "id": "OZ4Ua-x79ke0"
      },
      "execution_count": null,
      "outputs": []
    }
  ]
}