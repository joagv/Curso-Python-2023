{
  "nbformat": 4,
  "nbformat_minor": 0,
  "metadata": {
    "colab": {
      "provenance": [],
      "authorship_tag": "ABX9TyN/1v9KxSe+YzJIUQnDnZsH",
      "include_colab_link": true
    },
    "kernelspec": {
      "name": "python3",
      "display_name": "Python 3"
    },
    "language_info": {
      "name": "python"
    }
  },
  "cells": [
    {
      "cell_type": "markdown",
      "metadata": {
        "id": "view-in-github",
        "colab_type": "text"
      },
      "source": [
        "<a href=\"https://colab.research.google.com/github/joagv/Curso-Python-2023/blob/main/Actividad_3_Funciones.ipynb\" target=\"_parent\"><img src=\"https://colab.research.google.com/assets/colab-badge.svg\" alt=\"Open In Colab\"/></a>"
      ]
    },
    {
      "cell_type": "markdown",
      "source": [
        "# Ejercicio: Funciones para calcular área y perimetro de un circulo y un rectangulo\n",
        "\n",
        "José Andrés Gutiérrez Vázquez"
      ],
      "metadata": {
        "id": "46XX75FpHBHl"
      }
    },
    {
      "cell_type": "code",
      "source": [
        "def area_circulo(radio):\n",
        "  \"\"\"Calcula el área de un círculo\"\"\"\n",
        "  area =  math.pi * radio ** 2\n",
        "  return area"
      ],
      "metadata": {
        "id": "ePc7qQmCDqmA"
      },
      "execution_count": null,
      "outputs": []
    },
    {
      "cell_type": "code",
      "source": [
        "area_circulo(23)"
      ],
      "metadata": {
        "colab": {
          "base_uri": "https://localhost:8080/"
        },
        "id": "LZ0PQdgjD2Wn",
        "outputId": "37e0cb39-c332-497e-96b3-2014bfeb5a87"
      },
      "execution_count": null,
      "outputs": [
        {
          "output_type": "execute_result",
          "data": {
            "text/plain": [
              "1661.9025137490005"
            ]
          },
          "metadata": {},
          "execution_count": 85
        }
      ]
    },
    {
      "cell_type": "code",
      "source": [
        "def per_circulo(radio):\n",
        "  \"\"\"Calcula el perimetro de un círculo\"\"\"\n",
        "  perimetro = 2 * math.pi * radio\n",
        "  return perimetro"
      ],
      "metadata": {
        "id": "o_OXctzNEmhp"
      },
      "execution_count": null,
      "outputs": []
    },
    {
      "cell_type": "code",
      "source": [
        "per_circulo(15)"
      ],
      "metadata": {
        "colab": {
          "base_uri": "https://localhost:8080/"
        },
        "id": "9ZslMLblFIB2",
        "outputId": "44fe7772-8e4e-48c2-9e25-e7206dfd7936"
      },
      "execution_count": null,
      "outputs": [
        {
          "output_type": "execute_result",
          "data": {
            "text/plain": [
              "94.24777960769379"
            ]
          },
          "metadata": {},
          "execution_count": 86
        }
      ]
    },
    {
      "cell_type": "code",
      "source": [
        "def area_rectangulo(b, h):\n",
        "  \"\"\"Calcula el área de un rectangulo\"\"\"\n",
        "  area = b * h\n",
        "  return area"
      ],
      "metadata": {
        "id": "rr3O1jqqFqxj"
      },
      "execution_count": null,
      "outputs": []
    },
    {
      "cell_type": "code",
      "source": [
        "area_rectangulo(8, 3)"
      ],
      "metadata": {
        "colab": {
          "base_uri": "https://localhost:8080/"
        },
        "id": "igGdorW9Gduq",
        "outputId": "0252a2e9-aaf1-4b8e-b6f5-a44f6f8551bf"
      },
      "execution_count": null,
      "outputs": [
        {
          "output_type": "execute_result",
          "data": {
            "text/plain": [
              "24"
            ]
          },
          "metadata": {},
          "execution_count": 76
        }
      ]
    },
    {
      "cell_type": "code",
      "source": [
        "def per_rectangulo(b, h):\n",
        "  \"\"\"Calcula el perimetro de un rectangulo\"\"\"\n",
        "  perimetro = 2 * b + 2 * h\n",
        "  return perimetro"
      ],
      "metadata": {
        "id": "-ZTG8auTFN8N"
      },
      "execution_count": null,
      "outputs": []
    },
    {
      "cell_type": "code",
      "source": [
        "per_rectangulo(12, 6)"
      ],
      "metadata": {
        "colab": {
          "base_uri": "https://localhost:8080/"
        },
        "id": "ERiZs2agGXhQ",
        "outputId": "ddc917b5-7044-493a-fbad-f5fc8b638689"
      },
      "execution_count": null,
      "outputs": [
        {
          "output_type": "execute_result",
          "data": {
            "text/plain": [
              "36"
            ]
          },
          "metadata": {},
          "execution_count": 87
        }
      ]
    }
  ]
}