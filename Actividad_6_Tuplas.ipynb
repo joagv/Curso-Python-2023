{
  "nbformat": 4,
  "nbformat_minor": 0,
  "metadata": {
    "colab": {
      "provenance": [],
      "authorship_tag": "ABX9TyMtV7y0K9I0LLeizU9wRD88",
      "include_colab_link": true
    },
    "kernelspec": {
      "name": "python3",
      "display_name": "Python 3"
    },
    "language_info": {
      "name": "python"
    }
  },
  "cells": [
    {
      "cell_type": "markdown",
      "metadata": {
        "id": "view-in-github",
        "colab_type": "text"
      },
      "source": [
        "<a href=\"https://colab.research.google.com/github/joagv/Curso-Python-2023/blob/main/Actividad_6_Tuplas.ipynb\" target=\"_parent\"><img src=\"https://colab.research.google.com/assets/colab-badge.svg\" alt=\"Open In Colab\"/></a>"
      ]
    },
    {
      "cell_type": "markdown",
      "source": [
        "# Tuplas"
      ],
      "metadata": {
        "id": "xnw9qdgUNeUc"
      }
    },
    {
      "cell_type": "code",
      "execution_count": 74,
      "metadata": {
        "id": "YUfHqrJkJYpP"
      },
      "outputs": [],
      "source": [
        "import math\n",
        "def calculo_de_propiedades_circulo(radio):\n",
        "  '''calcula el area y perimetro del circulo, además otorga un color'''\n",
        "  area = math.pi * radio **2\n",
        "  perimetro = 2 * math.pi * radio\n",
        "  color = ('amarillo')\n",
        "\n",
        "  return (area, perimetro, color)"
      ]
    },
    {
      "cell_type": "code",
      "source": [
        "radio = 15\n",
        "resultados = calculo_de_propiedades_circulo(radio)"
      ],
      "metadata": {
        "id": "fTa2wlQKN-fW"
      },
      "execution_count": 75,
      "outputs": []
    },
    {
      "cell_type": "code",
      "source": [
        "resultados"
      ],
      "metadata": {
        "colab": {
          "base_uri": "https://localhost:8080/"
        },
        "id": "rTHLya3-OMnW",
        "outputId": "b7684605-3496-4181-b13b-7515f6cb4480"
      },
      "execution_count": 76,
      "outputs": [
        {
          "output_type": "execute_result",
          "data": {
            "text/plain": [
              "(706.8583470577034, 94.24777960769379, 'amarillo')"
            ]
          },
          "metadata": {},
          "execution_count": 76
        }
      ]
    },
    {
      "cell_type": "code",
      "source": [
        "type (resultados)"
      ],
      "metadata": {
        "colab": {
          "base_uri": "https://localhost:8080/"
        },
        "id": "Ce7g6MMaOOiN",
        "outputId": "c24fb82a-a2bc-4e6a-8a04-e03ff7be7dc5"
      },
      "execution_count": 77,
      "outputs": [
        {
          "output_type": "execute_result",
          "data": {
            "text/plain": [
              "tuple"
            ]
          },
          "metadata": {},
          "execution_count": 77
        }
      ]
    }
  ]
}