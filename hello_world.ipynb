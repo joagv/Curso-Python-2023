{
  "nbformat": 4,
  "nbformat_minor": 0,
  "metadata": {
    "colab": {
      "provenance": [],
      "authorship_tag": "ABX9TyND2SQYwyms7eRZ2uZns6+/",
      "include_colab_link": true
    },
    "kernelspec": {
      "name": "python3",
      "display_name": "Python 3"
    },
    "language_info": {
      "name": "python"
    }
  },
  "cells": [
    {
      "cell_type": "markdown",
      "metadata": {
        "id": "view-in-github",
        "colab_type": "text"
      },
      "source": [
        "<a href=\"https://colab.research.google.com/github/joagv/Curso-Python-2023/blob/main/hello_world.ipynb\" target=\"_parent\"><img src=\"https://colab.research.google.com/assets/colab-badge.svg\" alt=\"Open In Colab\"/></a>"
      ]
    },
    {
      "cell_type": "markdown",
      "source": [
        "Mi primer código de Python"
      ],
      "metadata": {
        "id": "SFpuEw7kr5sb"
      }
    },
    {
      "cell_type": "code",
      "execution_count": null,
      "metadata": {
        "colab": {
          "base_uri": "https://localhost:8080/"
        },
        "id": "2KWwVwIEr3gu",
        "outputId": "5376e0a8-b1d6-435d-b12a-7173ee33a773"
      },
      "outputs": [
        {
          "output_type": "stream",
          "name": "stdout",
          "text": [
            "Hello, world!\n"
          ]
        }
      ],
      "source": [
        "# En Python podemos usar comillas dobles\n",
        "# para crear un string (cadena de caracteres ó texto)\n",
        "print(\"Hello, world!\")"
      ]
    },
    {
      "cell_type": "code",
      "source": [
        "# Pero también podemos usar comillas sencillas\n",
        "print('Hello, world! ')"
      ],
      "metadata": {
        "colab": {
          "base_uri": "https://localhost:8080/"
        },
        "id": "J2ZIIRGQsRrt",
        "outputId": "64dc7486-7d1a-4657-e9cf-ad009b39aaf1"
      },
      "execution_count": null,
      "outputs": [
        {
          "output_type": "stream",
          "name": "stdout",
          "text": [
            "Hello, world! \n"
          ]
        }
      ]
    },
    {
      "cell_type": "code",
      "source": [
        "# Aunque no es necesario usar el print en colab\n",
        "# para mostrar un resultado\n",
        "\"Hello, world!\"\n",
        "# Útil cuando desarrollamos o queremos ver un resultado\n",
        "# rápido\n",
        "# Pero, como buena práctica hay que usar siempre la\n",
        "# función print para mostrar un resultado"
      ],
      "metadata": {
        "id": "jprMh03At-I-",
        "outputId": "45be1989-6b6f-404b-b686-8d3c10a6f483",
        "colab": {
          "base_uri": "https://localhost:8080/",
          "height": 36
        }
      },
      "execution_count": 1,
      "outputs": [
        {
          "output_type": "execute_result",
          "data": {
            "text/plain": [
              "'Hello, world!'"
            ],
            "application/vnd.google.colaboratory.intrinsic+json": {
              "type": "string"
            }
          },
          "metadata": {},
          "execution_count": 1
        }
      ]
    },
    {
      "cell_type": "code",
      "source": [],
      "metadata": {
        "id": "BECoP3PTvBft"
      },
      "execution_count": null,
      "outputs": []
    }
  ]
}