{
  "nbformat": 4,
  "nbformat_minor": 0,
  "metadata": {
    "colab": {
      "provenance": [],
      "authorship_tag": "ABX9TyM8tTGIA/k9uPsk97wMicuf",
      "include_colab_link": true
    },
    "kernelspec": {
      "name": "python3",
      "display_name": "Python 3"
    },
    "language_info": {
      "name": "python"
    }
  },
  "cells": [
    {
      "cell_type": "markdown",
      "metadata": {
        "id": "view-in-github",
        "colab_type": "text"
      },
      "source": [
        "<a href=\"https://colab.research.google.com/github/joagv/Curso-Python-2023/blob/main/Ejercicios_Algoritmos.ipynb\" target=\"_parent\"><img src=\"https://colab.research.google.com/assets/colab-badge.svg\" alt=\"Open In Colab\"/></a>"
      ]
    },
    {
      "cell_type": "markdown",
      "source": [
        "# I. Múltiplos de 3 y 5\n",
        "\n",
        "Si enumeramos todos los números naturales por debajo de 10 que son múltiplos de 3 o 5, obtenemos 3, 5, 6 y 9. La suma de estos múltiplos es 23.\n",
        "\n",
        "Encuentra la suma de todos los múltiplos de 3 o 5 por debajo de 1000."
      ],
      "metadata": {
        "id": "q2JSZxeBMIhn"
      }
    },
    {
      "cell_type": "code",
      "execution_count": 2,
      "metadata": {
        "colab": {
          "base_uri": "https://localhost:8080/"
        },
        "id": "BTckgU77Lpqn",
        "outputId": "01fc66af-34e6-482c-dbee-c90379834614"
      },
      "outputs": [
        {
          "output_type": "execute_result",
          "data": {
            "text/plain": [
              "233168"
            ]
          },
          "metadata": {},
          "execution_count": 2
        }
      ],
      "source": [
        "# Creación de listas con los números que corresponden a los múltiplo de 3 y 5\n",
        "m_3 = list(range(0,1000,3))\n",
        "m_5 = list(range(0,1000,5))\n",
        "# Creación de funcion para determinar los números que se pueden duplicar\n",
        "def union(m_3,m_5):\n",
        "  listafinal = []\n",
        "  listaUnion = m_3+m_5\n",
        "# Algoritmo\n",
        "  for i in listaUnion:\n",
        "    if i not in listafinal:\n",
        "      listafinal += [i]\n",
        "  return listafinal\n",
        "# Determinación de la suma\n",
        "sum(union(m_3,m_5))"
      ]
    },
    {
      "cell_type": "markdown",
      "source": [
        "# II. Números pares Fibonacci\n",
        "Cada nuevo número de la secuencia de Fibonacci se genera\n",
        "sumando los dos números anteriores. Al comenzar con 0 y 1:\n",
        "\n",
        "0, 1, 1, 2, 3, 5, 8, 13, 21, 34, 55, 89, ...\n",
        "\n",
        "Al considerar los números en la secuencia de Fibonacci\n",
        "cuyo valor no sea mayor o igual a cuatro millones,\n",
        "encuentre la suma de los términos pares."
      ],
      "metadata": {
        "id": "nXCl7NchaXfv"
      }
    },
    {
      "cell_type": "code",
      "source": [
        "# Creación de la función\n",
        "def funcion_fibonacci(n):\n",
        "  if n < 2:\n",
        "    return n\n",
        "# Determinación de las condicionales\n",
        "  else:\n",
        "    condicional = (funcion_fibonacci(n-1)) + (funcion_fibonacci(n-2))\n",
        "    return condicional\n",
        "i = 0\n",
        "suma = 0\n",
        "while funcion_fibonacci(i) < 4000000:\n",
        "  if funcion_fibonacci(i)%2 == 0:\n",
        "    suma += funcion_fibonacci(i)\n",
        "    i += 1\n",
        "  else:\n",
        "    i += 1\n",
        "print(\"la sumatoria de los números cuyo valor no es \\nmayor o igual a cuatro millones es de\", suma)"
      ],
      "metadata": {
        "id": "mqefLONtMCUK",
        "colab": {
          "base_uri": "https://localhost:8080/"
        },
        "outputId": "43d02877-eda2-464a-8a54-0252db72361d"
      },
      "execution_count": 3,
      "outputs": [
        {
          "output_type": "stream",
          "name": "stdout",
          "text": [
            "la sumatoria de los números cuyo valor no es \n",
            "mayor o igual a cuatro millones es de 4613732\n"
          ]
        }
      ]
    },
    {
      "cell_type": "markdown",
      "source": [
        "# III. Producto palíndromo más grande\n",
        "\n",
        "Un número palindrómico (Capicúa) se lee igual en ambos sentidos. El palíndromo más grande hecho del producto de dos números de 2 dígitos es 9009 = 91 × 99.\n",
        "\n",
        "Encuentra el palíndromo más grande formado por el producto de dos números de 3 dígitos."
      ],
      "metadata": {
        "id": "U8i3tLc5nQeW"
      }
    },
    {
      "cell_type": "code",
      "source": [
        "# Conversion de in a str\n",
        "def palindromo(numero):\n",
        "    if str(numero)==str(numero)[::-1]:\n",
        "        return True\n",
        "    else:\n",
        "        return False\n",
        "# Operación matemática\n",
        "capicua=1\n",
        "for numero1 in range(1,100):\n",
        "    for numero2 in range(1,100):\n",
        "        producto=numero1*numero2\n",
        "        if palindromo(producto):\n",
        "            if producto>capicua:\n",
        "                capicua=producto\n",
        "# Delimitación de los números que originan el producto\n",
        "                max1=numero1\n",
        "                max2=numero2\n",
        "print (\"el número capicúa más grande que se puede obtener como producto de dos \\nnúmeros de dos digítos es\", capicua, \"y se obtiene de multiplicar\", max1, \"por\", max2)"
      ],
      "metadata": {
        "colab": {
          "base_uri": "https://localhost:8080/"
        },
        "id": "Bia-168hew74",
        "outputId": "d4f66d1f-60d7-4f21-8fa7-e31f057af81c"
      },
      "execution_count": 8,
      "outputs": [
        {
          "output_type": "stream",
          "name": "stdout",
          "text": [
            "el número capicúa más grande que se puede obtener como producto de dos \n",
            "números de dos digítos es 9009 y se obtiene de multiplicar 91 por 99\n"
          ]
        }
      ]
    },
    {
      "cell_type": "code",
      "source": [
        "# Conversion de in a str\n",
        "def palindromo(numero):\n",
        "    if str(numero)==str(numero)[::-1]:\n",
        "        return True\n",
        "    else:\n",
        "        return False\n",
        "# Operación matem1\n",
        "for numero1 in range(101,1000):\n",
        "    for numero2 in range(101,1000):\n",
        "        producto=numero1*numero2\n",
        "        if palindromo(producto):\n",
        "            if producto>capicua:\n",
        "                capicua=producto\n",
        "# Delimitación de los números que originan el producto\n",
        "                max1=numero1\n",
        "                max2=numero2\n",
        "print (\"el número capicúa más grande que se puede obtener como producto de dos \\nnúmeros de tres digítos es\", capicua, \"y se obtiene de multiplicar\", max1, \"por\", max2)"
      ],
      "metadata": {
        "colab": {
          "base_uri": "https://localhost:8080/"
        },
        "id": "pDeyOfXenmkC",
        "outputId": "6b90d1b9-b21d-41ce-819b-26feee02959b"
      },
      "execution_count": 10,
      "outputs": [
        {
          "output_type": "stream",
          "name": "stdout",
          "text": [
            "el número capicúa más grande que se puede obtener como producto de dos \n",
            "números de tres digítos es 906609 y se obtiene de multiplicar 913 por 993\n"
          ]
        }
      ]
    },
    {
      "cell_type": "code",
      "source": [
        "# Conversion de in a str\n",
        "def palindromo(numero):\n",
        "    if str(numero)==str(numero)[::-1]:\n",
        "        return True\n",
        "    else:\n",
        "        return False\n",
        "# Operación matemática\n",
        "capicua=1\n",
        "for numero1 in range(100,1000,5):\n",
        "    for numero2 in range(100,1000,5):\n",
        "        producto=(numero1*numero2)\n",
        "        if palindromo(producto):\n",
        "            if producto>capicua:\n",
        "                capicua=producto\n",
        "# Delimitación de los números que originan el producto\n",
        "                max1=numero1\n",
        "                max2=numero2\n",
        "print (\"el resultado para el producto capicúa más grande de dos números de tres \\ndigítos y múltiplo de 5 es\", capicua, \"y se obtiene de multiplicar\", max1, \"por\", max2)"
      ],
      "metadata": {
        "colab": {
          "base_uri": "https://localhost:8080/"
        },
        "id": "_BNbTBHRn51K",
        "outputId": "5d9c515d-4ab3-443e-8fcb-14e1a6ca2afb"
      },
      "execution_count": 11,
      "outputs": [
        {
          "output_type": "stream",
          "name": "stdout",
          "text": [
            "el resultado para el producto capicúa más grande de dos números de tres \n",
            "digítos y múltiplo de 5 es 577775 y se obtiene de multiplicar 605 por 955\n"
          ]
        }
      ]
    }
  ]
}