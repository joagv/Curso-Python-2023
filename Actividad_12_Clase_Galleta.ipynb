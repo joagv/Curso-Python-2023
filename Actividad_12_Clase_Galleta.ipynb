{
  "nbformat": 4,
  "nbformat_minor": 0,
  "metadata": {
    "colab": {
      "provenance": [],
      "authorship_tag": "ABX9TyPv5LlOXsuGUVQPfR+O2p8c",
      "include_colab_link": true
    },
    "kernelspec": {
      "name": "python3",
      "display_name": "Python 3"
    },
    "language_info": {
      "name": "python"
    }
  },
  "cells": [
    {
      "cell_type": "markdown",
      "metadata": {
        "id": "view-in-github",
        "colab_type": "text"
      },
      "source": [
        "<a href=\"https://colab.research.google.com/github/joagv/Curso-Python-2023/blob/main/Actividad_12_Clase_Galleta.ipynb\" target=\"_parent\"><img src=\"https://colab.research.google.com/assets/colab-badge.svg\" alt=\"Open In Colab\"/></a>"
      ]
    },
    {
      "cell_type": "code",
      "execution_count": 44,
      "metadata": {
        "id": "n6MeA8uKdKZG"
      },
      "outputs": [],
      "source": [
        "class galleta:\n",
        "  def __init__(self, sabor, diametro, chispas):\n",
        "    self.sabor = str(input(\"¿De qué sabor es la galleta? \"))\n",
        "    self.diametro = float(input(\"¿Cuál es el diametro de la galleta \"))\n",
        "    self.chispas = str(input(\"¿La galleta tiene chispas? (si/no) \"))\n",
        "    if self.chispas == \"si\":\n",
        "      peso = (self.diametro*2.5) + 2\n",
        "    else:\n",
        "      peso = (self.diametro*2.5)\n",
        "    print(\"el peso de la galleta es:\", peso, \"gramos\")\n",
        "\n",
        "  def peso(self):\n",
        "    return"
      ]
    },
    {
      "cell_type": "code",
      "source": [
        "galleta(any, any, any)"
      ],
      "metadata": {
        "colab": {
          "base_uri": "https://localhost:8080/"
        },
        "id": "4E3MjzVDQ7ZB",
        "outputId": "f247d90c-41cc-4b5a-eaf4-0fada2937824"
      },
      "execution_count": 45,
      "outputs": [
        {
          "output_type": "stream",
          "name": "stdout",
          "text": [
            "¿De qué sabor es la galleta? Oreo\n",
            "¿Cuál es el diametro de la galleta 4.4\n",
            "¿La galleta tiene chispas? (si/no) si\n",
            "el peso de la galleta es: 13.0 gramos\n"
          ]
        },
        {
          "output_type": "execute_result",
          "data": {
            "text/plain": [
              "<__main__.galleta at 0x7c89e5319870>"
            ]
          },
          "metadata": {},
          "execution_count": 45
        }
      ]
    },
    {
      "cell_type": "code",
      "source": [],
      "metadata": {
        "id": "vVrAPJ_cQ-tG"
      },
      "execution_count": null,
      "outputs": []
    }
  ]
}