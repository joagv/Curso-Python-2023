{
  "nbformat": 4,
  "nbformat_minor": 0,
  "metadata": {
    "colab": {
      "provenance": [],
      "authorship_tag": "ABX9TyPuUyakYYM1dXnZH//XX6r4",
      "include_colab_link": true
    },
    "kernelspec": {
      "name": "python3",
      "display_name": "Python 3"
    },
    "language_info": {
      "name": "python"
    }
  },
  "cells": [
    {
      "cell_type": "markdown",
      "metadata": {
        "id": "view-in-github",
        "colab_type": "text"
      },
      "source": [
        "<a href=\"https://colab.research.google.com/github/joagv/Curso-Python-2023/blob/main/Actividad_2_Variables_dedatos.ipynb\" target=\"_parent\"><img src=\"https://colab.research.google.com/assets/colab-badge.svg\" alt=\"Open In Colab\"/></a>"
      ]
    },
    {
      "cell_type": "markdown",
      "source": [
        "Área y circunferencia de un círculo escribir un script de python que calcule el área y la circunferencia de un círculo\n",
        "\n",
        "*   el área de un círculo se calcula usando la ecuación: πr\n",
        "*   el perímetro de un círculo se calcula usando la ecuación: 2πr\n",
        "*   puedes usar π=3.14159"
      ],
      "metadata": {
        "id": "Fy4OQsarJo9L"
      }
    },
    {
      "cell_type": "code",
      "execution_count": null,
      "metadata": {
        "id": "nP_uZAAtJeKd"
      },
      "outputs": [],
      "source": [
        "# Composición paso a paso\n",
        "# Pasos del algoritmo\n",
        "# 1. Obtenga el valor del radio de la circunferencia\n",
        "#     a. valores codificados ó\n",
        "#     b. solicitar al usuario que introduzca el valor del radio\n",
        "#        i. convertir el radio en tipo de dato aceptado\n",
        "# 2. Encuentra el área = πr2\n",
        "# 3. Encuentra el perímetro = 2πr\n",
        "# 4. Mostrar resultados calculados"
      ]
    },
    {
      "cell_type": "code",
      "source": [
        "r = input('Introduce el valor del radio =>')\n",
        "r2 = float(r)"
      ],
      "metadata": {
        "colab": {
          "base_uri": "https://localhost:8080/"
        },
        "id": "onHc5uinG1kX",
        "outputId": "22e9d22d-582a-456a-c3a0-53516a943cdf"
      },
      "execution_count": 1,
      "outputs": [
        {
          "name": "stdout",
          "output_type": "stream",
          "text": [
            "Introduce el valor del radio =>10\n"
          ]
        }
      ]
    },
    {
      "cell_type": "code",
      "source": [
        "Area = 3.14159 * r2**2\n",
        "\n",
        "print(\"El área es:\",Area)"
      ],
      "metadata": {
        "colab": {
          "base_uri": "https://localhost:8080/"
        },
        "id": "GI05CtZUHGQC",
        "outputId": "c48b552d-78dd-4db0-af0f-64e0faa17964"
      },
      "execution_count": 2,
      "outputs": [
        {
          "output_type": "stream",
          "name": "stdout",
          "text": [
            "El área es: 314.159\n"
          ]
        }
      ]
    },
    {
      "cell_type": "code",
      "source": [
        "Perimetro = 2 * 3.14159 * r2\n",
        "\n",
        "print(\"El perimetro es:\",Perimetro)"
      ],
      "metadata": {
        "colab": {
          "base_uri": "https://localhost:8080/"
        },
        "id": "0F7dV6NTKC2O",
        "outputId": "c9d09c7f-7237-49ce-c8f0-53a142388908"
      },
      "execution_count": 3,
      "outputs": [
        {
          "output_type": "stream",
          "name": "stdout",
          "text": [
            "El perimetro es: 62.8318\n"
          ]
        }
      ]
    }
  ]
}