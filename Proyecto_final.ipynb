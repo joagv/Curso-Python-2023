{
  "nbformat": 4,
  "nbformat_minor": 0,
  "metadata": {
    "colab": {
      "provenance": [],
      "authorship_tag": "ABX9TyPVGFFPVT5M5dYwDPbZJRre",
      "include_colab_link": true
    },
    "kernelspec": {
      "name": "python3",
      "display_name": "Python 3"
    },
    "language_info": {
      "name": "python"
    }
  },
  "cells": [
    {
      "cell_type": "markdown",
      "metadata": {
        "id": "view-in-github",
        "colab_type": "text"
      },
      "source": [
        "<a href=\"https://colab.research.google.com/github/joagv/Curso-Python-2023/blob/main/Proyecto_final.ipynb\" target=\"_parent\"><img src=\"https://colab.research.google.com/assets/colab-badge.svg\" alt=\"Open In Colab\"/></a>"
      ]
    },
    {
      "cell_type": "markdown",
      "source": [
        "# Biblioteca de Python en el cotexto de un curso de análisis financiero\n",
        "* **Objetivo del proyecto**: El presente proyecto se diseñó con el objetivo de\n",
        "implementar conocimientos de programación en Python en el cotexto de un curso de análisis financiero."
      ],
      "metadata": {
        "id": "_yAhHope3O4S"
      }
    },
    {
      "cell_type": "markdown",
      "source": [
        "# Elementos básicos de Python\n",
        "- En este apartado se analiza el uso de la función print. Se presentan tres ejemplos de su uso en diferentes"
      ],
      "metadata": {
        "id": "hqbCk2oQ35Yj"
      }
    },
    {
      "cell_type": "markdown",
      "source": [
        "**Expresiones cortas**\n",
        "- En el primer caso se ejemplifica el uso de la función print para expresiones de menos de ochenta caracteres"
      ],
      "metadata": {
        "id": "KmOyYq-U74Xm"
      }
    },
    {
      "cell_type": "code",
      "execution_count": null,
      "metadata": {
        "colab": {
          "base_uri": "https://localhost:8080/"
        },
        "id": "_QXFtUZM3GyC",
        "outputId": "6acf343d-4ee4-47c3-9c26-c528d0c9a6e1"
      },
      "outputs": [
        {
          "output_type": "stream",
          "name": "stdout",
          "text": [
            "Bienvenido al curso de Análisis financiero\n",
            "Bienvenido al curso de Análisis financiero\n"
          ]
        }
      ],
      "source": [
        "# La función print permite presentar una expresión en pantalla\n",
        "# Para su funcionamiento es necesario que la expresión esté entre comillas\n",
        "# Estas pueden se comillas dobles (\"\") o sencillas ('')\n",
        "\n",
        "# En este caso daremos la bienvenida al curso utiilizando los dos métodos\n",
        "\n",
        "print(\"Bienvenido al curso de Análisis financiero\")\n",
        "print('Bienvenido al curso de Análisis financiero')\n",
        "\n",
        "# Para que ejecutar la acción es necesario utilizar las teclas shift y enter"
      ]
    },
    {
      "cell_type": "markdown",
      "source": [
        "**Expresiones largas**\n",
        "- Cuando se trabaja con expresiones que tienen más de ochenta caracteres, tal es el caso de párrafos de texto completos, es necesario hacer uso de una diagonnal invertida. Esto nos permite que la escritura del código sea limpia y clara"
      ],
      "metadata": {
        "id": "mklgF4P978Vm"
      }
    },
    {
      "cell_type": "code",
      "source": [
        "# En este caso se muestra el objteivo de la primera unidad del programa\n",
        "\n",
        "print(\"Objetivo: El alumno conocerá y analizará las bases y criterios de el\\\n",
        " financiamiento público y privado\")\n",
        "\n",
        "# Al ejecutar la acción todos los caracteres apareceran en un línea continua"
      ],
      "metadata": {
        "colab": {
          "base_uri": "https://localhost:8080/"
        },
        "id": "QL_ZFhid6IOm",
        "outputId": "8a0d047a-79de-45c0-b47b-78d2a42f6c11"
      },
      "execution_count": null,
      "outputs": [
        {
          "output_type": "stream",
          "name": "stdout",
          "text": [
            "Objetivo: El alumno conocerá y analizará las bases y criterios de el financiamiento público y privado\n"
          ]
        }
      ]
    },
    {
      "cell_type": "markdown",
      "source": [
        "**Salto de línea**\n",
        "- También existe la posibilidad de que se requiera mostrar un texto con saltos de línea, en este caso se añade una letra \"n\" acompañando la diagonal"
      ],
      "metadata": {
        "id": "0t1QS1D987_v"
      }
    },
    {
      "cell_type": "code",
      "source": [
        "# Este caso queremos mostrar las competencias y dimensiones\n",
        "# En la primera línea aparecerán las competencia\n",
        "# En la segunda línea aparecerán las dimensiones\n",
        "\n",
        "print(\"Competencias profesionales: En los ámbitos de la producción, transforma\\\n",
        "ción, innovación e investigación, el egresado desarrollará propuestas de aprove\\\n",
        "chamiento, optimización y comercialización de los recursos financieros y conta\\\n",
        "bles.\\nDimensión cognitiva y emprendedora: Aprender a aprender, capacidad em\\\n",
        "prendedora y de adaptarse a los requerimientos cambiantes del contexto a través\\\n",
        " de habilidades de pensamiento complejo\")\n",
        "\n",
        "# Notese que en la codificación no importa que las palabras se corten\n",
        "# Lo importante trabajar adecuadamente con los espacios"
      ],
      "metadata": {
        "colab": {
          "base_uri": "https://localhost:8080/"
        },
        "id": "oaPgjy258eim",
        "outputId": "8bebc0f7-1762-4704-d675-d310ea469472"
      },
      "execution_count": null,
      "outputs": [
        {
          "output_type": "stream",
          "name": "stdout",
          "text": [
            "Competencias profesionales: En los ámbitos de la producción, transformación, innovación e investigación, el egresado desarrollará propuestas de aprovechamiento, optimización y comercialización de los recursos financieros y contables.\n",
            "Dimensión cognitiva y emprendedora: Aprender a aprender, capacidad emprendedora y de adaptarse a los requerimientos cambiantes del contexto a través de habilidades de pensamiento complejo\n"
          ]
        }
      ]
    },
    {
      "cell_type": "markdown",
      "source": [
        "# Operaciones y funciones\n",
        "- En esta sección se presenta un conjunto de operaciones matemáticas que se ejecutan en análisis de proyectos de inversión.\n",
        "- Hay dos apartados. En el primero se usan operaciones simples, en el segundo se trabaja con funciones"
      ],
      "metadata": {
        "id": "ezwQRxcYk5jQ"
      }
    },
    {
      "cell_type": "markdown",
      "source": [
        "**Calculo del Valor Presente Neto \"VPN\"**\n",
        "- El VPN es un indicador que nos permite evaluar un proyecto de inversión con base en los flujos de efectivo. El método consiste en convertir los flujos de efectivo que se obtienen durante la ejecución de un proyecto aplicando una tasa de descuento. Una vez que se obtienen los valores actuales de cada periodo se resta el valor de la inversión inicial y si el resultado es igual o mayor a cero se considera que el proyecto de inversión es adecuado."
      ],
      "metadata": {
        "id": "ORzZvi1Plahh"
      }
    },
    {
      "cell_type": "code",
      "source": [
        "# En primer lugar se le dan las instrucciones generales al estudiante\n",
        "# Esta ejecución otorga el VPN para proyectos con seis periodos de duración\n",
        "print(\"Para calcular el Valor Presente Neto es necesario que escribas la tasa\\\n",
        " de interés, la inversión inicial del proyecto y los valores de los flujos\\n de\\\n",
        " seis periodos. Es importante que consideres que la tasa de interés debe estar\\\n",
        " escrita en formato decimal\")\n",
        "\n",
        "# Se usa la función input para que el estudiante inserte los datos\n",
        "# En este caso los datos son de tipo float, ya que se aceptan decimales\n",
        "\n",
        "# En primer término se solicita la inversión inicial\n",
        "capital = float(input(\"Introduce el valor de la inversión inicial: \"))\n",
        "# Posteriormente se solicita la tasa de interés\n",
        "i = float(input(\"Introduce la tasa de interés: \"))\n",
        "# Se solicita insertar el valor de los flujos para cada uno de los periodos\n",
        "f_1 = float(input(\"Introduce el flujo del periodo 1: \"))\n",
        "f_2 = float(input(\"Introduce el flujo del periodo 2: \"))\n",
        "f_3 = float(input(\"Introduce el flujo del periodo 3: \"))\n",
        "f_4 = float(input(\"Introduce el flujo del periodo 4: \"))\n",
        "f_5 = float(input(\"Introduce el flujo del periodo 5: \"))\n",
        "f_6 = float(input(\"Introduce el flujo del periodo 6: \"))\n",
        "\n",
        "# Se definen las operaciones para traer los flujos a valor actual\n",
        "# El uso de dos asteriscos indica que la operación es una potencia\n",
        "va1 = (f_1/((1+i)**1))\n",
        "va2 = (f_2/((1+i)**2))\n",
        "va3 = (f_3/((1+i)**3))\n",
        "va4 = (f_4/((1+i)**4))\n",
        "va5 = (f_5/((1+i)**5))\n",
        "va6 = (f_6/((1+i)**6))\n",
        "\n",
        "# Se define la operación para calcular el VPN\n",
        "vpn = (va1+va2+va3+va4+va5+va6-capital)\n",
        "\n",
        "# Adicionalmente utilizamos la función round para redondear el resultado final\n",
        "# En este caso se redonde a un decimal de dos digitos\n",
        "vpn_f = round(vpn, 2)\n",
        "\n",
        "# Con la función print aparece el resultado final en pantalla\n",
        "print(\"El VPN calculado es de:\", vpn_f)"
      ],
      "metadata": {
        "colab": {
          "base_uri": "https://localhost:8080/"
        },
        "id": "_J0aEQZbAGqS",
        "outputId": "80498cc5-f97f-46a2-ba0f-c765f60cb566"
      },
      "execution_count": 50,
      "outputs": [
        {
          "output_type": "stream",
          "name": "stdout",
          "text": [
            "Para calcular el Valor Presente Neto es necesario que escribas la tasa de interés, la inversión inicial del proyecto y los valores de los flujos\n",
            " de seis periodos. Es importante que consideres que la tasa de interés debe estar escrita en formato decimal\n",
            "Introduce el valor de la inversión inicial: 145000\n",
            "Introduce la tasa de interés: .12\n",
            "Introduce el flujo del periodo 1: 28000\n",
            "Introduce el flujo del periodo 2: 32000\n",
            "Introduce el flujo del periodo 3: 36500.50\n",
            "Introduce el flujo del periodo 4: 40000\n",
            "Introduce el flujo del periodo 5: 42000\n",
            "Introduce el flujo del periodo 6: 45000\n",
            "El VPN calculado es de: 3541.59\n"
          ]
        }
      ]
    },
    {
      "cell_type": "markdown",
      "source": [
        "**Valor futuro**\n",
        "- Este indicador permite reconocer el valor del dinero a través del tiempo, así mismo, se reconoce el valor de la tasa de interés compuesta"
      ],
      "metadata": {
        "id": "EIEdjjjNw3Nc"
      }
    },
    {
      "cell_type": "code",
      "source": [
        "# En el ejemplo anterior utilizamos las operaciones\n",
        "# Para este caso se implementan funciones\n",
        "\n",
        "# El primer paso es definir la función con la palabra def\n",
        "def valor_futuro (inicial, tasa, periodos):\n",
        "# Agregamos un elemento de apoyo para definir la utilidad de la función\n",
        "  \"\"\"Calcula el periodo de recuperacion de la inversión\"\"\"\n",
        "# Definimos la operación\n",
        "  recuperacion = inicial*((1+tasa)**periodos)\n",
        "  return recuperacion"
      ],
      "metadata": {
        "id": "9CKrZlaxyC1p"
      },
      "execution_count": 36,
      "outputs": []
    },
    {
      "cell_type": "code",
      "source": [
        "# Otorgamos los datos\n",
        "# En este caso el resultado corresponde al monto que recibiría una persona\n",
        "# que deja 12000 pesos en un cuenta de inversión durante 15 años con una\n",
        "# tasa de interés del 8%\n",
        "valor_futuro(12000, .08, 15)"
      ],
      "metadata": {
        "colab": {
          "base_uri": "https://localhost:8080/"
        },
        "id": "Em7Z1jV8zFol",
        "outputId": "5db31481-45b5-48a1-ff3b-455082b306c9"
      },
      "execution_count": 38,
      "outputs": [
        {
          "output_type": "execute_result",
          "data": {
            "text/plain": [
              "38066.02937037926"
            ]
          },
          "metadata": {},
          "execution_count": 38
        }
      ]
    },
    {
      "cell_type": "code",
      "source": [
        "# Analizamos la utilidad de la función help\n",
        "help(valor_futuro)"
      ],
      "metadata": {
        "colab": {
          "base_uri": "https://localhost:8080/"
        },
        "id": "NNoineMb3jin",
        "outputId": "fa2b94ff-0188-4620-c037-70e5f223e8fa"
      },
      "execution_count": 39,
      "outputs": [
        {
          "output_type": "stream",
          "name": "stdout",
          "text": [
            "Help on function valor_futuro in module __main__:\n",
            "\n",
            "valor_futuro(inicial, tasa, periodos)\n",
            "    Calcula el periodo de recuperacion de la inversión\n",
            "\n"
          ]
        }
      ]
    },
    {
      "cell_type": "markdown",
      "source": [
        "# Condicionales\n",
        "- Se presentan dos casos en los que se utilizan condicionales if/else"
      ],
      "metadata": {
        "id": "7Uk6aYi25lUo"
      }
    },
    {
      "cell_type": "markdown",
      "source": [
        "**Uso de condicionales para otorgar información adicional**\n",
        "- Existe la posibilidad de que el estudiante además de requerir el reultado del VPN necesite conocer el valor de todos los flujos de efectivo, con el uso de condicionales podemos generar que esto ocurra"
      ],
      "metadata": {
        "id": "ipkFsgRT6G9g"
      }
    },
    {
      "cell_type": "code",
      "source": [
        "# El primer paso utilizar la función round para redondear los resultados\n",
        "va1_f = round(va1, 2)\n",
        "va2_f = round(va2, 2)\n",
        "va3_f = round(va3, 2)\n",
        "va4_f = round(va4, 2)\n",
        "va5_f = round(va5, 2)\n",
        "va6_f = round(va6, 2)"
      ],
      "metadata": {
        "id": "udy8vMzVvG4p"
      },
      "execution_count": 52,
      "outputs": []
    },
    {
      "cell_type": "code",
      "source": [
        "# En este apartado utilizamosla condicional para preguntar al estudiante si\n",
        "# desea conocer el valor actual de todos los flujos\n",
        "adicional = input(f\"Deseas conocer el valor de los flujos actuales de cada uno\\\n",
        " de los peiodos\\n (si/no): \")\n",
        "\n",
        "# Agregamos la condicional con la función if\n",
        "# Si la respuesta es afirmativa se ejecuta la función print\n",
        "\n",
        "if adicional.lower() == 'si':\n",
        "\n",
        "# El estudiante verá en pantalla el valor de todos los flujos\n",
        "\n",
        "    print(\"El valor actual del flujo 1 es de: \", va1_f)\n",
        "    print(\"El valor actual del flujo 2 es de: \", va2_f)\n",
        "    print(\"El valor actual del flujo 3 es de: \", va3_f)\n",
        "    print(\"El valor actual del flujo 4 es de: \", va4_f)\n",
        "    print(\"El valor actual del flujo 5 es de: \", va5_f)\n",
        "    print(\"El valor actual del flujo 6 es de: \", va6_f)\n",
        "# En el caso de que el estudiante responda negativamente se termina la acción\n",
        "else:\n",
        "    print(\"Excelente, gracias por usar esta herramienta\")"
      ],
      "metadata": {
        "colab": {
          "base_uri": "https://localhost:8080/"
        },
        "id": "yqkKgGp_DfcN",
        "outputId": "95a41eb6-b90d-4635-9f52-cba0490096ef"
      },
      "execution_count": 54,
      "outputs": [
        {
          "output_type": "stream",
          "name": "stdout",
          "text": [
            "Deseas conocer el valor de los flujos actuales de cada uno de los peiodos\n",
            " (si/no): si\n",
            "El valor actual del flujo 1 es de:  25000.0\n",
            "El valor actual del flujo 2 es de:  25510.2\n",
            "El valor actual del flujo 3 es de:  25980.33\n",
            "El valor actual del flujo 4 es de:  25420.72\n",
            "El valor actual del flujo 5 es de:  23831.93\n",
            "El valor actual del flujo 6 es de:  22798.4\n"
          ]
        }
      ]
    },
    {
      "cell_type": "markdown",
      "source": [
        "**Prueba para un examen de opción múltiple**\n",
        "- En este caso se utilizan las condicionales para un examen de opción múltiple, a fiferencia del caso anterior se agregan acciones que se deberán ejecutar en el caso de que ocura una condició específica"
      ],
      "metadata": {
        "id": "MiEWL8jM7sPS"
      }
    },
    {
      "cell_type": "code",
      "source": [
        "# Usamos la función print para mostrar al estudiante el encabezado el examen\n",
        "print('Examen:  Unidad 1. Elementos básicos del crédito')\n",
        "# Se establece la variable puntaje\n",
        "puntaje = 0\n",
        "# Aí mismo, se crea la variable en la que se determina el número de preguntas\n",
        "# que se incluirán en el examen, en este caso serán cuatro\n",
        "num_preguntas = 4\n",
        "# Agregamos una variable que recolecte el nombre del estudiante\n",
        "nombre = input(f'Nombre completo: ')\n",
        "# Iniciamos preguntando al estudiante si está preparadoa para el examen\n",
        "respuesta = input(f\"Serán {num_preguntas} preguntas ¿Estás preparado para \\\n",
        "comenzar? (si/no): \")\n",
        "\n",
        "# Si la respuesta es afirmativa aparecerán las preguntas con las opciones\n",
        "if respuesta.lower() == 'si':\n",
        "\n",
        "    respuesta = input('Pregunta 1: ¿Qué principio describe que los créditos\\\n",
        " deben ser concedidos con base en la producción y en la circulación de bienes\\\n",
        " y servicios?\\n (a. capacidad, b. reciprocidad, c. accesibilidad, d. finalidad) ')\n",
        "# Agregamos otra condicional para almacenar la puntuación en el caso de que las\n",
        "# respuestas del estudiante sean correctas\n",
        "    if respuesta.lower() == 'd':\n",
        "        puntaje += 1\n",
        "\n",
        "    respuesta = input('Pregunta 2: ¿Qué factor permite determinar suficiencia\\\n",
        " en el capital de trabajo a partir de la actividad económica?\\n (a. sector de\\\n",
        " negocio, b. ciclo comercial, c. condiciones de compra, d. volumen de ventas) ')\n",
        "    if respuesta.lower() == 'a':\n",
        "        puntaje += 1\n",
        "\n",
        "    respuesta = input('Pregunta 3: ¿Cuenta del estado de situación financiera\\\n",
        " que registra los activos con más alto grado de liquidez?\\n (a. edificios, b. in\\\n",
        "ventarios, c. bancos, d. cuentas por cobrar) ')\n",
        "    if respuesta.lower() == 'c':\n",
        "        puntaje += 1\n",
        "\n",
        "    respuesta = input('Pregunta 4: ¿Qué indicador muestra la eficiencia operati\\\n",
        "va de la empresa?\\n (a. margen bruto, b. rotación de inventarios, c. rotación de\\\n",
        " capital de trabajo, d. margen neto) ')\n",
        "    if respuesta.lower() == 'b':\n",
        "        puntaje += 1\n",
        "# Utilizamos la función print para mostrar el número de respuestas correctas\n",
        "    print(f'El examen terminó. Tuviste {puntaje} respuestas correctas!')\n",
        "# Así mismo, agregamos una variable para mostrar el puntaje final del examen\n",
        "    porcentaje = (puntaje / num_preguntas) * 100\n",
        "    print(f'Calificación del primer parcial: {porcentaje}')\n",
        "    print('Nunca pares de aprender')\n",
        "\n",
        "# En el remoto caso de que el estudiante opte por no presentar el examen en ese\n",
        "# momento se le recuerda que aún tiene tiempo para presentarlo\n",
        "else:\n",
        "    print(\"No te preocupes recuerda que tienes hasta el día jueves 24 de agosto\\\n",
        "para realizar el examen\")"
      ],
      "metadata": {
        "colab": {
          "base_uri": "https://localhost:8080/"
        },
        "id": "OqjueNK1vHfP",
        "outputId": "f5593abb-49ed-4b5f-fa20-86b323d17452"
      },
      "execution_count": 55,
      "outputs": [
        {
          "output_type": "stream",
          "name": "stdout",
          "text": [
            "Examen:  Unidad 1. Elementos básicos del crédito\n",
            "Nombre completo: José Gutiérrez\n",
            "Serán 4 preguntas ¿Estás preparado para comenzar? (si/no): si\n",
            "Pregunta 1: ¿Qué principio describe que los créditos deben ser concedidos con base en la producción y en la circulación de bienes y servicios?\n",
            " (a. capacidad, b. reciprocidad, c. accesibilidad, d. finalidad) d\n",
            "Pregunta 2: ¿Qué factor permite determinar suficiencia en el capital de trabajo a partir de la actividad económica?\n",
            " (a. sector de negocio, b. ciclo comercial, c. condiciones de compra, d. volumen de ventas) a\n",
            "Pregunta 3: ¿Cuenta del estado de situación financiera que registra los activos con más alto grado de liquidez?\n",
            " (a. edificios, b. inventarios, c. bancos, d. cuentas por cobrar) c\n",
            "Pregunta 4: ¿Qué indicador muestra la eficiencia operativa de la empresa?\n",
            " (a. margen bruto, b. rotación de inventarios, c. rotación de capital de trabajo, d. margen neto) b\n",
            "El examen terminó. Tuviste 4 respuestas correctas!\n",
            "Calificación del primer parcial: 100.0\n",
            "Nunca pares de aprender\n"
          ]
        }
      ]
    }
  ]
}